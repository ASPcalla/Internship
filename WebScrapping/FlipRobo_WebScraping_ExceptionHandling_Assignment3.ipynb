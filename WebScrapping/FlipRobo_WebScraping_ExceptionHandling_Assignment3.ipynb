{
 "cells": [
  {
   "cell_type": "code",
   "execution_count": 1,
   "id": "f1f8f5a8",
   "metadata": {},
   "outputs": [
    {
     "name": "stdout",
     "output_type": "stream",
     "text": [
      "Defaulting to user installation because normal site-packages is not writeable\n",
      "Requirement already satisfied: selenium in c:\\users\\nitu calla\\appdata\\roaming\\python\\python310\\site-packages (4.11.2)\n",
      "Requirement already satisfied: trio~=0.17 in c:\\users\\nitu calla\\appdata\\roaming\\python\\python310\\site-packages (from selenium) (0.22.2)\n",
      "Requirement already satisfied: certifi>=2021.10.8 in c:\\programdata\\anaconda3\\lib\\site-packages (from selenium) (2022.12.7)\n",
      "Requirement already satisfied: trio-websocket~=0.9 in c:\\users\\nitu calla\\appdata\\roaming\\python\\python310\\site-packages (from selenium) (0.10.3)\n",
      "Requirement already satisfied: urllib3[socks]<3,>=1.26 in c:\\programdata\\anaconda3\\lib\\site-packages (from selenium) (1.26.14)\n",
      "Requirement already satisfied: sortedcontainers in c:\\programdata\\anaconda3\\lib\\site-packages (from trio~=0.17->selenium) (2.4.0)\n",
      "Requirement already satisfied: attrs>=20.1.0 in c:\\programdata\\anaconda3\\lib\\site-packages (from trio~=0.17->selenium) (22.1.0)\n",
      "Requirement already satisfied: sniffio in c:\\programdata\\anaconda3\\lib\\site-packages (from trio~=0.17->selenium) (1.2.0)\n",
      "Requirement already satisfied: cffi>=1.14 in c:\\programdata\\anaconda3\\lib\\site-packages (from trio~=0.17->selenium) (1.15.1)\n",
      "Requirement already satisfied: idna in c:\\programdata\\anaconda3\\lib\\site-packages (from trio~=0.17->selenium) (3.4)\n",
      "Requirement already satisfied: outcome in c:\\users\\nitu calla\\appdata\\roaming\\python\\python310\\site-packages (from trio~=0.17->selenium) (1.2.0)\n",
      "Requirement already satisfied: exceptiongroup>=1.0.0rc9 in c:\\users\\nitu calla\\appdata\\roaming\\python\\python310\\site-packages (from trio~=0.17->selenium) (1.1.3)\n",
      "Requirement already satisfied: wsproto>=0.14 in c:\\users\\nitu calla\\appdata\\roaming\\python\\python310\\site-packages (from trio-websocket~=0.9->selenium) (1.2.0)\n",
      "Requirement already satisfied: PySocks!=1.5.7,<2.0,>=1.5.6 in c:\\programdata\\anaconda3\\lib\\site-packages (from urllib3[socks]<3,>=1.26->selenium) (1.7.1)\n",
      "Requirement already satisfied: pycparser in c:\\programdata\\anaconda3\\lib\\site-packages (from cffi>=1.14->trio~=0.17->selenium) (2.21)\n",
      "Requirement already satisfied: h11<1,>=0.9.0 in c:\\users\\nitu calla\\appdata\\roaming\\python\\python310\\site-packages (from wsproto>=0.14->trio-websocket~=0.9->selenium) (0.14.0)\n"
     ]
    }
   ],
   "source": [
    "!pip install selenium"
   ]
  },
  {
   "cell_type": "code",
   "execution_count": 2,
   "id": "e30b71cb",
   "metadata": {},
   "outputs": [],
   "source": [
    "# Importing libraries\n",
    "from selenium import webdriver\n",
    "import time\n",
    "from selenium.common.exceptions import NoSuchElementException\n",
    "from selenium.webdriver.support.ui import WebDriverWait\n",
    "from selenium.webdriver.support import expected_conditions as EC\n",
    "from selenium.common.exceptions import StaleElementReferenceException\n",
    "from selenium.common.exceptions import ElementNotInteractableException\n",
    "from selenium.common.exceptions  import SessionNotCreatedException\n",
    "from selenium.common.exceptions  import TimeoutException\n",
    "\n",
    "\n",
    "import warnings\n",
    "warnings.filterwarnings('ignore')\n",
    "from selenium.webdriver.common.by import By\n",
    "import re\n",
    "import pandas as pd\n",
    "from selenium.webdriver.common.keys import Keys\n",
    "from selenium.webdriver.common.action_chains import ActionChains"
   ]
  },
  {
   "cell_type": "code",
   "execution_count": 32,
   "id": "4d7a2236",
   "metadata": {},
   "outputs": [],
   "source": [
    "# Since Q1 and Q2 Connected , solving together"
   ]
  },
  {
   "cell_type": "markdown",
   "id": "3586ce98",
   "metadata": {},
   "source": [
    "1> Write a python program which searches all the product under a particular product from www.amazon.in. \n",
    "\n",
    "The product to be searched will be taken as input from user. For e.g. If user input is ‘guitar’. Then search for \n",
    "guitars.\n",
    "\n",
    "2> In the above question, now scrape the following details of each product listed in first 3 pages of your search \n",
    "results and save it in a data frame and csv. \n",
    "\n",
    "In case if any product has less than 3 pages in search results then \n",
    "scrape all the products available under that product name. \n",
    "\n",
    "Details to be scraped are: \n",
    "\"Brand Name\", \"Name of the Product\", \"Price\", \"Return/Exchange\", \"Expected Delivery\", \"Availability\" and \n",
    "“Product URL”. \n",
    "\n",
    "In case, if any of the details are missing for any of the product then replace it by “-“. \n"
   ]
  },
  {
   "cell_type": "code",
   "execution_count": 33,
   "id": "d9e68384",
   "metadata": {},
   "outputs": [
    {
     "name": "stdout",
     "output_type": "stream",
     "text": [
      "Enter the Product to search : guitar\n"
     ]
    }
   ],
   "source": [
    "product = input(\"Enter the Product to search : \")"
   ]
  },
  {
   "cell_type": "code",
   "execution_count": 53,
   "id": "3432f7ca",
   "metadata": {},
   "outputs": [],
   "source": [
    "driver = webdriver.Chrome()\n",
    "\n",
    "# Opening the flipkart.com pag Son the automated chome browser\n",
    "driver.get('https://www.amazon.in')\n"
   ]
  },
  {
   "cell_type": "code",
   "execution_count": 54,
   "id": "98025ff1",
   "metadata": {},
   "outputs": [],
   "source": [
    "search_input = driver.find_element(By.ID,\"twotabsearchtextbox\")\n",
    "search_input.send_keys(product)"
   ]
  },
  {
   "cell_type": "code",
   "execution_count": 55,
   "id": "139a188a",
   "metadata": {},
   "outputs": [],
   "source": [
    "search_btn=driver.find_element(By.ID,'nav-search-submit-button')\n",
    "search_btn.click()\n",
    "time.sleep(3)"
   ]
  },
  {
   "cell_type": "markdown",
   "id": "4ec8071f",
   "metadata": {},
   "source": [
    "Now Continueing Question2 from above ...."
   ]
  },
  {
   "cell_type": "markdown",
   "id": "441f5f0a",
   "metadata": {},
   "source": [
    "#scraping data - Brand name, Name of Product , Price, Return/Exchange, Expected Delivery, Availbility and Product URL"
   ]
  },
  {
   "cell_type": "code",
   "execution_count": 56,
   "id": "6bcf8773",
   "metadata": {},
   "outputs": [],
   "source": [
    "brand=[]\n",
    "product_name=[]\n",
    "price=[]\n",
    "exchange=[]\n",
    "delivery=[]\n",
    "availability=[]"
   ]
  },
  {
   "cell_type": "code",
   "execution_count": 57,
   "id": "e7c9ffc8",
   "metadata": {},
   "outputs": [],
   "source": [
    "# Lets scrap all urls first and save in a list\n",
    "product_urls=[]\n",
    "start = 0\n",
    "end = 3\n",
    "for page in range (start,end):\n",
    "    url=driver.find_elements(By.XPATH,'//img[@class=\"_396cs4\"]')\n",
    "    for i in url:\n",
    "        product_urls.append(i.get_attribute(\"href\"))\n",
    "    nxt_button=driver.find_element(By.XPATH,'//a[@class=\"s-pagination-item s-pagination-next s-pagination-button s-pagination-separator\"]')\n",
    "    nxt_button.click()\n",
    "    time.sleep(3)"
   ]
  },
  {
   "cell_type": "code",
   "execution_count": 58,
   "id": "5bfab0e4",
   "metadata": {},
   "outputs": [
    {
     "data": {
      "text/plain": [
       "162"
      ]
     },
     "execution_count": 58,
     "metadata": {},
     "output_type": "execute_result"
    }
   ],
   "source": [
    "len(product_urls)"
   ]
  },
  {
   "cell_type": "code",
   "execution_count": 59,
   "id": "affa5d7b",
   "metadata": {},
   "outputs": [],
   "source": [
    "# Now scraping data from each url\n",
    "# to scrap- Brand name , Name or product, Price,retrun/exchange,expected delivery,Availability \n",
    "for url in product_urls:\n",
    "    driver.get(url)\n",
    "    time.sleep(2)\n",
    "    \n",
    "    try:\n",
    "        brand_ele=driver.find_element(By.XPATH,'//span[@class=\"a-size-base po-break-word\"]')\n",
    "        brand.append(brand_ele.text)\n",
    "    except:\n",
    "        brand.append('_')\n",
    "    \n",
    "    try:\n",
    "        product_ele=driver.find_element(By.XPATH,'//span[@class=\"a-size-large product-title-word-break\"]')\n",
    "        product_name.append(product_ele.text)\n",
    "    except:\n",
    "        product_name.append('_')\n",
    "        \n",
    "    try:\n",
    "        price_ele=driver.find_element(By.XPATH,'//span[@class=\"a-price-whole\"]')\n",
    "        price.append(price_ele.text)\n",
    "    except:\n",
    "        price.append('_')\n",
    "        \n",
    "    try:\n",
    "        delivery_ele=driver.find_element(By.XPATH,'//span[@class=\"a-text-bold\"]')\n",
    "        delivery.append(delivery_ele.text)\n",
    "    except:\n",
    "        delivery.append('_')\n",
    "        \n",
    "    "
   ]
  },
  {
   "cell_type": "code",
   "execution_count": 60,
   "id": "ef89e930",
   "metadata": {},
   "outputs": [
    {
     "name": "stdout",
     "output_type": "stream",
     "text": [
      "162 162 162 162\n"
     ]
    }
   ],
   "source": [
    "print(len(brand),len(product_name),len(price),len(delivery))\n"
   ]
  },
  {
   "cell_type": "code",
   "execution_count": 61,
   "id": "ada21aa7",
   "metadata": {},
   "outputs": [
    {
     "data": {
      "text/html": [
       "<div>\n",
       "<style scoped>\n",
       "    .dataframe tbody tr th:only-of-type {\n",
       "        vertical-align: middle;\n",
       "    }\n",
       "\n",
       "    .dataframe tbody tr th {\n",
       "        vertical-align: top;\n",
       "    }\n",
       "\n",
       "    .dataframe thead th {\n",
       "        text-align: right;\n",
       "    }\n",
       "</style>\n",
       "<table border=\"1\" class=\"dataframe\">\n",
       "  <thead>\n",
       "    <tr style=\"text-align: right;\">\n",
       "      <th></th>\n",
       "      <th>Brand</th>\n",
       "      <th>Name of Product</th>\n",
       "      <th>Price</th>\n",
       "      <th>Delivery</th>\n",
       "    </tr>\n",
       "  </thead>\n",
       "  <tbody>\n",
       "    <tr>\n",
       "      <th>0</th>\n",
       "      <td>Kadence</td>\n",
       "      <td>Kadence rosewood Guitar Frontier Series, Elect...</td>\n",
       "      <td>4,999</td>\n",
       "      <td>Wednesday, 13 September</td>\n",
       "    </tr>\n",
       "    <tr>\n",
       "      <th>1</th>\n",
       "      <td>Kadence</td>\n",
       "      <td>Kadence Frontier guitar with Online Guitar lea...</td>\n",
       "      <td>4,299</td>\n",
       "      <td>Monday, 11 September</td>\n",
       "    </tr>\n",
       "    <tr>\n",
       "      <th>2</th>\n",
       "      <td>Kadence</td>\n",
       "      <td>Kadence Slowhand Premium Jumbo Semi Acoustic G...</td>\n",
       "      <td>11,999</td>\n",
       "      <td>Wednesday, 13 September</td>\n",
       "    </tr>\n",
       "    <tr>\n",
       "      <th>3</th>\n",
       "      <td>VAULT</td>\n",
       "      <td>Vault DA20 Dreadnought Acoustic Guitar With Gi...</td>\n",
       "      <td>4,654</td>\n",
       "      <td>Monday, 11 September</td>\n",
       "    </tr>\n",
       "    <tr>\n",
       "      <th>4</th>\n",
       "      <td>JUAREZ</td>\n",
       "      <td>Juârez Acoustic Guitar, 38 Inch Cutaway, 038C ...</td>\n",
       "      <td>1,999</td>\n",
       "      <td>Monday, 11 September</td>\n",
       "    </tr>\n",
       "    <tr>\n",
       "      <th>...</th>\n",
       "      <td>...</td>\n",
       "      <td>...</td>\n",
       "      <td>...</td>\n",
       "      <td>...</td>\n",
       "    </tr>\n",
       "    <tr>\n",
       "      <th>157</th>\n",
       "      <td>Kordz</td>\n",
       "      <td>Kordz Luana Natural Wooden 41 Inch Rosewood Fr...</td>\n",
       "      <td>3,890</td>\n",
       "      <td>Monday, 18 September</td>\n",
       "    </tr>\n",
       "    <tr>\n",
       "      <th>158</th>\n",
       "      <td>JUAREZ</td>\n",
       "      <td>Juarez Arpéggio 104.14 cm (41 Inch) Semi-Acous...</td>\n",
       "      <td>6,699</td>\n",
       "      <td>Monday, 11 September</td>\n",
       "    </tr>\n",
       "    <tr>\n",
       "      <th>159</th>\n",
       "      <td>Martin Smith</td>\n",
       "      <td>Martin Smith W-101-SB-PK Acoustic Guitar Super...</td>\n",
       "      <td>5,339</td>\n",
       "      <td>Monday, 11 September</td>\n",
       "    </tr>\n",
       "    <tr>\n",
       "      <th>160</th>\n",
       "      <td>Kadence</td>\n",
       "      <td>Kadence Acoustica Series, Semi Acoustic Guitar...</td>\n",
       "      <td>7,199</td>\n",
       "      <td>Thursday, 14 September</td>\n",
       "    </tr>\n",
       "    <tr>\n",
       "      <th>161</th>\n",
       "      <td>D Pluse</td>\n",
       "      <td>4-String Kids Guitar | Musical Instrument for ...</td>\n",
       "      <td>449</td>\n",
       "      <td>Wednesday, 13 September</td>\n",
       "    </tr>\n",
       "  </tbody>\n",
       "</table>\n",
       "<p>162 rows × 4 columns</p>\n",
       "</div>"
      ],
      "text/plain": [
       "            Brand                                    Name of Product   Price  \\\n",
       "0         Kadence  Kadence rosewood Guitar Frontier Series, Elect...   4,999   \n",
       "1         Kadence  Kadence Frontier guitar with Online Guitar lea...   4,299   \n",
       "2         Kadence  Kadence Slowhand Premium Jumbo Semi Acoustic G...  11,999   \n",
       "3           VAULT  Vault DA20 Dreadnought Acoustic Guitar With Gi...   4,654   \n",
       "4          JUAREZ  Juârez Acoustic Guitar, 38 Inch Cutaway, 038C ...   1,999   \n",
       "..            ...                                                ...     ...   \n",
       "157         Kordz  Kordz Luana Natural Wooden 41 Inch Rosewood Fr...   3,890   \n",
       "158        JUAREZ  Juarez Arpéggio 104.14 cm (41 Inch) Semi-Acous...   6,699   \n",
       "159  Martin Smith  Martin Smith W-101-SB-PK Acoustic Guitar Super...   5,339   \n",
       "160       Kadence  Kadence Acoustica Series, Semi Acoustic Guitar...   7,199   \n",
       "161       D Pluse  4-String Kids Guitar | Musical Instrument for ...     449   \n",
       "\n",
       "                    Delivery  \n",
       "0    Wednesday, 13 September  \n",
       "1       Monday, 11 September  \n",
       "2    Wednesday, 13 September  \n",
       "3       Monday, 11 September  \n",
       "4       Monday, 11 September  \n",
       "..                       ...  \n",
       "157     Monday, 18 September  \n",
       "158     Monday, 11 September  \n",
       "159     Monday, 11 September  \n",
       "160   Thursday, 14 September  \n",
       "161  Wednesday, 13 September  \n",
       "\n",
       "[162 rows x 4 columns]"
      ]
     },
     "execution_count": 61,
     "metadata": {},
     "output_type": "execute_result"
    }
   ],
   "source": [
    "# now making DF\n",
    "import pandas as pd\n",
    "df=pd.DataFrame({'Brand':brand,'Name of Product':product_name,'Price':price,'Delivery':delivery})\n",
    "df"
   ]
  },
  {
   "cell_type": "markdown",
   "id": "d4cb840a",
   "metadata": {},
   "source": [
    "Q 3: Write a python program to access the search bar and search button on images.google.com and\n",
    "\n",
    "scrape 10 images each for keywords ‘fruit’, ‘cars’ and ‘Machine Learning’, ‘Guitar’, ‘Cakes’."
   ]
  },
  {
   "cell_type": "code",
   "execution_count": 3,
   "id": "0c25803d",
   "metadata": {},
   "outputs": [],
   "source": [
    "import time\n",
    "import requests\n",
    "from selenium import webdriver\n",
    "from selenium.webdriver.common.by import By"
   ]
  },
  {
   "cell_type": "code",
   "execution_count": 14,
   "id": "680cbbe5",
   "metadata": {},
   "outputs": [
    {
     "name": "stdout",
     "output_type": "stream",
     "text": [
      "Enter the word to search : Cars\n"
     ]
    }
   ],
   "source": [
    "search_keyword = input(\"Enter the word to search : \")"
   ]
  },
  {
   "cell_type": "code",
   "execution_count": 17,
   "id": "00a28aad",
   "metadata": {},
   "outputs": [],
   "source": [
    "driver = webdriver.Chrome()"
   ]
  },
  {
   "cell_type": "code",
   "execution_count": 19,
   "id": "f2614fee",
   "metadata": {},
   "outputs": [],
   "source": [
    "driver.get('https://images.google.com/')"
   ]
  },
  {
   "cell_type": "code",
   "execution_count": 20,
   "id": "a10887fb",
   "metadata": {},
   "outputs": [],
   "source": [
    "search_input=driver.find_element(By.CLASS_NAME,\"gLFyf\")\n",
    "search_input.send_keys(search_keyword)"
   ]
  },
  {
   "cell_type": "code",
   "execution_count": 21,
   "id": "774a29e3",
   "metadata": {},
   "outputs": [],
   "source": [
    "search_btn=driver.find_element(By.XPATH,'//span[@class=\"z1asCe MZy1Rb\"]')\n",
    "search_btn.click()\n",
    "time.sleep(3)"
   ]
  },
  {
   "cell_type": "code",
   "execution_count": 22,
   "id": "70904605",
   "metadata": {},
   "outputs": [
    {
     "name": "stdout",
     "output_type": "stream",
     "text": [
      "Downloading 0 of 10 images\n",
      "Downloading 1 of 10 images\n",
      "Downloading 2 of 10 images\n",
      "Downloading 3 of 10 images\n",
      "Downloading 4 of 10 images\n",
      "Downloading 5 of 10 images\n",
      "Downloading 6 of 10 images\n",
      "Downloading 7 of 10 images\n",
      "Downloading 8 of 10 images\n",
      "Downloading 9 of 10 images\n",
      "Downloading 10 of 10 images\n"
     ]
    },
    {
     "ename": "NameError",
     "evalue": "name 'breakBy' is not defined",
     "output_type": "error",
     "traceback": [
      "\u001b[1;31m---------------------------------------------------------------------------\u001b[0m",
      "\u001b[1;31mNameError\u001b[0m                                 Traceback (most recent call last)",
      "Cell \u001b[1;32mIn[22], line 15\u001b[0m\n\u001b[0;32m     13\u001b[0m \u001b[38;5;28;01mfor\u001b[39;00m i \u001b[38;5;129;01min\u001b[39;00m \u001b[38;5;28mrange\u001b[39m(\u001b[38;5;28mlen\u001b[39m(img_urls)):\n\u001b[0;32m     14\u001b[0m     \u001b[38;5;28;01mif\u001b[39;00m i \u001b[38;5;241m>\u001b[39m \u001b[38;5;241m10\u001b[39m:\n\u001b[1;32m---> 15\u001b[0m         \u001b[43mbreakBy\u001b[49m\u001b[38;5;241m.\u001b[39mXPATH,\n\u001b[0;32m     16\u001b[0m     \u001b[38;5;28mprint\u001b[39m(\u001b[38;5;124m\"\u001b[39m\u001b[38;5;124mDownloading \u001b[39m\u001b[38;5;132;01m{0}\u001b[39;00m\u001b[38;5;124m of \u001b[39m\u001b[38;5;132;01m{1}\u001b[39;00m\u001b[38;5;124m images\u001b[39m\u001b[38;5;124m\"\u001b[39m\u001b[38;5;241m.\u001b[39mformat(i,\u001b[38;5;241m10\u001b[39m))\n\u001b[0;32m     17\u001b[0m     response\u001b[38;5;241m=\u001b[39mrequests\u001b[38;5;241m.\u001b[39mget(img_urls[i])\n",
      "\u001b[1;31mNameError\u001b[0m: name 'breakBy' is not defined"
     ]
    }
   ],
   "source": [
    "for _ in range(20): # scrolling 20 times for 1000 images\n",
    "    driver.execute_script(\"window.scrollBy(0,1000)\")\n",
    "\n",
    "images=driver.find_elements(By.XPATH,'//img[@class=\"rg_i Q4LuWd\"]')  # path of image to scrap\n",
    "\n",
    "img_urls=[]  # will create empty list to store image urls\n",
    "for image in images: \n",
    "    source=image.get_attribute('src')  # since images are always in 'src' tag , thus to get src date \n",
    "    if source is not None:\n",
    "        if(source[0:4] ==   'http'):   # it may possible , we may get data without link , thus scrapping date which starts from 'http', thus it will be sure a link\n",
    "            img_urls.append(source)  # Now all images will be saved or append in img_url in form of url\n",
    "\n",
    "for i in range(len(img_urls)):\n",
    "    if i > 10:\n",
    "        breakBy.XPATH,\n",
    "    print(\"Downloading {0} of {1} images\".format(i,10))\n",
    "    response=requests.get(img_urls[i])\n",
    "    file = open(r\"C:\\Nitu_HardDisc\\Assign3_excptnHandlg\"+str(i)+\".jpg\",\"wb\")\n",
    "    file.write(response.content)"
   ]
  },
  {
   "cell_type": "code",
   "execution_count": 23,
   "id": "7ea3af6c",
   "metadata": {},
   "outputs": [],
   "source": [
    "# Since getting error by using breakBy.XPATH , which is been tought in class ,trying with break "
   ]
  },
  {
   "cell_type": "code",
   "execution_count": 5,
   "id": "4c0a3d62",
   "metadata": {},
   "outputs": [
    {
     "name": "stdout",
     "output_type": "stream",
     "text": [
      "Enter the word to search : fruits\n"
     ]
    }
   ],
   "source": [
    "search_keyword = input(\"Enter the word to search : \")"
   ]
  },
  {
   "cell_type": "code",
   "execution_count": 6,
   "id": "85920382",
   "metadata": {},
   "outputs": [],
   "source": [
    "driver = webdriver.Chrome()"
   ]
  },
  {
   "cell_type": "code",
   "execution_count": 7,
   "id": "3cd7d3e9",
   "metadata": {},
   "outputs": [],
   "source": [
    "driver.get('https://images.google.com/')"
   ]
  },
  {
   "cell_type": "code",
   "execution_count": 8,
   "id": "b2fd069d",
   "metadata": {},
   "outputs": [],
   "source": [
    "search_input=driver.find_element(By.CLASS_NAME,\"gLFyf\")\n",
    "search_input.send_keys(search_keyword)"
   ]
  },
  {
   "cell_type": "code",
   "execution_count": 9,
   "id": "854591e5",
   "metadata": {},
   "outputs": [],
   "source": [
    "search_btn=driver.find_element(By.XPATH,'//span[@class=\"z1asCe MZy1Rb\"]')\n",
    "search_btn.click()\n",
    "time.sleep(3)"
   ]
  },
  {
   "cell_type": "code",
   "execution_count": 11,
   "id": "f4f2acd3",
   "metadata": {},
   "outputs": [
    {
     "name": "stdout",
     "output_type": "stream",
     "text": [
      "Downloading 0 of 10 images\n",
      "Downloading 1 of 10 images\n",
      "Downloading 2 of 10 images\n",
      "Downloading 3 of 10 images\n",
      "Downloading 4 of 10 images\n",
      "Downloading 5 of 10 images\n",
      "Downloading 6 of 10 images\n",
      "Downloading 7 of 10 images\n",
      "Downloading 8 of 10 images\n",
      "Downloading 9 of 10 images\n",
      "Downloading 10 of 10 images\n"
     ]
    }
   ],
   "source": [
    "for _ in range(20): # scrolling 20 times for 1000 images\n",
    "    driver.execute_script(\"window.scrollBy(0,1000)\")\n",
    "\n",
    "images=driver.find_elements(By.XPATH,'//img[@class=\"rg_i Q4LuWd\"]')  # path of image to scrap\n",
    "\n",
    "img_urls=[]  # will create empty list to store image urls\n",
    "for image in images: \n",
    "    source=image.get_attribute('src')  # since images are always in 'src' tag , thus to get src date \n",
    "    if source is not None:\n",
    "        if(source[0:4] == 'http'):   # it may possible , we may get data without link , thus scrapping date which starts from 'http', thus it will be sure a link\n",
    "            img_urls.append(source)  # Now all images will be saved or append in img_url in form of url\n",
    "\n",
    "for i in range(len(img_urls)):\n",
    "    if i > 10:\n",
    "        break\n",
    "    print(\"Downloading {0} of {1} images\".format(i,10))\n",
    "    response=requests.get(img_urls[i])\n",
    "    file = open(r\"C:\\Nitu_HardDisc\\Assign3_excptnHandlg\"+str(i)+\".jpg\",\"wb\")\n",
    "    file.write(response.content)"
   ]
  },
  {
   "cell_type": "code",
   "execution_count": 13,
   "id": "636fed1a",
   "metadata": {},
   "outputs": [],
   "source": [
    "# Similar code for other keywords as well copy and paste \n"
   ]
  },
  {
   "cell_type": "markdown",
   "id": "3544f0b0",
   "metadata": {},
   "source": [
    "Q4 .Write a python program to search for a smartphone(e.g.: Oneplus Nord, pixel 4A, etc.) on www.flipkart.com\n",
    "and \n",
    "scrape following details for all the search results displayed on 1st page. \n",
    "\n",
    "Details to be scraped: “Brand \n",
    "Name”, “Smartphone name”, “Colour”, “RAM”, “Storage(ROM)”, “Primary Camera”, \n",
    "“Secondary Camera”, “Display Size”, “Battery Capacity”, “Price”, “Product URL”. \n",
    "\n",
    "Incase if any of the details is missing then replace it by “- “. Save your results in a dataframe and CSV."
   ]
  },
  {
   "cell_type": "code",
   "execution_count": 49,
   "id": "b6d0e978",
   "metadata": {},
   "outputs": [],
   "source": [
    "driver = webdriver.Chrome()\n",
    "\n",
    "# Opening the flipkart.com pag Son the automated chome browser\n",
    "driver.get('https://www.flipkart.com')\n",
    "driver.maximize_window()"
   ]
  },
  {
   "cell_type": "code",
   "execution_count": 50,
   "id": "748d0b8b",
   "metadata": {},
   "outputs": [],
   "source": [
    "search_input = driver.find_element(By.NAME,\"q\")\n",
    "search_input.send_keys('smartphone')"
   ]
  },
  {
   "cell_type": "code",
   "execution_count": 51,
   "id": "d7d0901c",
   "metadata": {},
   "outputs": [],
   "source": [
    "search_btn=driver.find_element(By.CLASS_NAME,\"L0Z3Pu\")\n",
    "search_btn.click()\n",
    "time.sleep(3)"
   ]
  },
  {
   "cell_type": "code",
   "execution_count": 32,
   "id": "73c7826d",
   "metadata": {},
   "outputs": [],
   "source": [
    "brand=[]\n",
    "colour=[]\n",
    "ram_rom=[]\n",
    "camera=[]\n",
    "disp_size=[]\n",
    "batt_cap=[]\n",
    "price=[]\n",
    "product_url=[]"
   ]
  },
  {
   "cell_type": "code",
   "execution_count": 33,
   "id": "724f1f1d",
   "metadata": {},
   "outputs": [],
   "source": [
    "# Lets scrap all urls first and save in a list\n",
    "product_urls=[]\n",
    "start = 0\n",
    "end = 1\n",
    "for page in range (start,end):\n",
    "    url=driver.find_elements(By.XPATH,'//a[@class=\"_1fQZEK\"]')\n",
    "    for i in url:\n",
    "        product_urls.append(i.get_attribute(\"href\"))"
   ]
  },
  {
   "cell_type": "code",
   "execution_count": 34,
   "id": "04a0e069",
   "metadata": {},
   "outputs": [
    {
     "data": {
      "text/plain": [
       "24"
      ]
     },
     "execution_count": 34,
     "metadata": {},
     "output_type": "execute_result"
    }
   ],
   "source": [
    "len(product_urls)"
   ]
  },
  {
   "cell_type": "code",
   "execution_count": 35,
   "id": "13490054",
   "metadata": {},
   "outputs": [],
   "source": [
    "# Now scraping data from each url\n",
    "# to scrap- Brand name , Name or product, Price,retrun/exchange,expected delivery,Availability \n",
    "for url in product_urls:\n",
    "    driver.get(url)\n",
    "    time.sleep(2)\n",
    "    \n",
    "    try:\n",
    "        brand_ele=driver.find_element(By.XPATH,'//span[@class=\"B_NuCI\"]')\n",
    "        brand.append(brand_ele.text)\n",
    "    except:\n",
    "        brand.append('_')\n",
    "    \n",
    "\n",
    "    try:\n",
    "        colour_ele=driver.find_element(By.XPATH,'/html/body/div[1]/div/div[3]/div[1]/div[2]/div[9]/div[5]/div/div[2]/div/div[1]/table/tbody/tr[4]/td[2]/ul/li')\n",
    "        colour.append(colour_ele.text)\n",
    "    except:\n",
    "        colour.append('_')\n",
    "    \n",
    "    try:\n",
    "        ram_rom_ele=driver.find_element(By.XPATH,'/html/body/div[1]/div/div[3]/div[1]/div[2]/div[8]/div[1]/div/div[2]/ul/li[1]')\n",
    "        ram_rom.append(ram_rom_ele.text)\n",
    "    except:\n",
    "        ram.append('_')\n",
    "        \n",
    "        \n",
    "    try:\n",
    "        camera_ele=driver.find_element(By.XPATH,'//*[@id=\"container\"]/div/div[3]/div[1]/div[2]/div[8]/div[1]/div/div[2]/ul/li[3]')\n",
    "        camera.append(camera_ele.text)\n",
    "    except:\n",
    "        camera.append('_')\n",
    "        \n",
    "    try:\n",
    "        disp_size_ele=driver.find_element(By.XPATH,'/html/body/div[1]/div/div[3]/div[1]/div[2]/div[8]/div[1]/div/div[2]/ul/li[2]')\n",
    "        disp_size.append(disp_size_ele.text)\n",
    "    except:\n",
    "        disp_size.append('_')\n",
    "        \n",
    "    try:\n",
    "        batt_cap_ele=driver.find_element(By.XPATH,'/html/body/div[1]/div/div[3]/div[1]/div[2]/div[8]/div[1]/div/div[2]/ul/li[4]')\n",
    "        batt_cap.append(batt_cap_ele.text)\n",
    "    except:\n",
    "        batt_cap.append('_')\n",
    "              \n",
    "    try:\n",
    "        price_ele=driver.find_element(By.XPATH,'//div[@class=\"_30jeq3 _16Jk6d\"]')\n",
    "        price.append(price_ele.text)\n",
    "    except:\n",
    "        price.append('_')\n",
    "      "
   ]
  },
  {
   "cell_type": "code",
   "execution_count": 36,
   "id": "c3bf032b",
   "metadata": {},
   "outputs": [
    {
     "name": "stdout",
     "output_type": "stream",
     "text": [
      "24 24 24 24 24 24 24\n"
     ]
    }
   ],
   "source": [
    "print(len(brand),len(colour),len(ram_rom),len(camera),len(disp_size),len(batt_cap),len(price))\n"
   ]
  },
  {
   "cell_type": "code",
   "execution_count": 39,
   "id": "6155f28f",
   "metadata": {},
   "outputs": [
    {
     "data": {
      "text/html": [
       "<div>\n",
       "<style scoped>\n",
       "    .dataframe tbody tr th:only-of-type {\n",
       "        vertical-align: middle;\n",
       "    }\n",
       "\n",
       "    .dataframe tbody tr th {\n",
       "        vertical-align: top;\n",
       "    }\n",
       "\n",
       "    .dataframe thead th {\n",
       "        text-align: right;\n",
       "    }\n",
       "</style>\n",
       "<table border=\"1\" class=\"dataframe\">\n",
       "  <thead>\n",
       "    <tr style=\"text-align: right;\">\n",
       "      <th></th>\n",
       "      <th>Brand Name</th>\n",
       "      <th>Colour</th>\n",
       "      <th>Storage-RAM/ROM</th>\n",
       "      <th>Camera</th>\n",
       "      <th>Dispaly Size</th>\n",
       "      <th>Battery Capacity</th>\n",
       "      <th>Price</th>\n",
       "      <th>Product URL</th>\n",
       "    </tr>\n",
       "  </thead>\n",
       "  <tbody>\n",
       "    <tr>\n",
       "      <th>0</th>\n",
       "      <td>SAMSUNG Galaxy F13 (Nightsky Green, 64 GB)  (4...</td>\n",
       "      <td>Nightsky Green</td>\n",
       "      <td>4 GB RAM | 64 GB ROM | Expandable Upto 1 TB</td>\n",
       "      <td>50MP + 5MP + 2MP | 8MP Front Camera</td>\n",
       "      <td>16.76 cm (6.6 inch) Full HD+ Display</td>\n",
       "      <td>6000 mAh Lithium Ion Battery</td>\n",
       "      <td>₹10,999</td>\n",
       "      <td>https://www.flipkart.com/samsung-galaxy-f13-ni...</td>\n",
       "    </tr>\n",
       "    <tr>\n",
       "      <th>1</th>\n",
       "      <td>SAMSUNG Galaxy F13 (Waterfall Blue, 64 GB)  (4...</td>\n",
       "      <td>Waterfall Blue</td>\n",
       "      <td>4 GB RAM | 64 GB ROM | Expandable Upto 1 TB</td>\n",
       "      <td>50MP + 5MP + 2MP | 8MP Front Camera</td>\n",
       "      <td>16.76 cm (6.6 inch) Full HD+ Display</td>\n",
       "      <td>6000 mAh Lithium Ion Battery</td>\n",
       "      <td>₹10,999</td>\n",
       "      <td>https://www.flipkart.com/samsung-galaxy-f13-wa...</td>\n",
       "    </tr>\n",
       "    <tr>\n",
       "      <th>2</th>\n",
       "      <td>SAMSUNG Galaxy F13 (Sunrise Copper, 64 GB)  (4...</td>\n",
       "      <td>Sunrise Copper</td>\n",
       "      <td>4 GB RAM | 64 GB ROM | Expandable Upto 1 TB</td>\n",
       "      <td>50MP + 5MP + 2MP | 8MP Front Camera</td>\n",
       "      <td>16.76 cm (6.6 inch) Full HD+ Display</td>\n",
       "      <td>6000 mAh Lithium Ion Battery</td>\n",
       "      <td>₹10,999</td>\n",
       "      <td>https://www.flipkart.com/samsung-galaxy-f13-su...</td>\n",
       "    </tr>\n",
       "    <tr>\n",
       "      <th>3</th>\n",
       "      <td>POCO C51 (Power Black, 64 GB)  (4 GB RAM)</td>\n",
       "      <td>Power Black</td>\n",
       "      <td>4 GB RAM | 64 GB ROM | Expandable Upto 1 TB</td>\n",
       "      <td>8MP Dual Rear Camera | 5MP Front Camera</td>\n",
       "      <td>16.56 cm (6.52 inch) HD+ Display</td>\n",
       "      <td>5000 mAh Battery</td>\n",
       "      <td>₹6,499</td>\n",
       "      <td>https://www.flipkart.com/poco-c51-power-black-...</td>\n",
       "    </tr>\n",
       "    <tr>\n",
       "      <th>4</th>\n",
       "      <td>POCO C51 (Royal Blue, 64 GB)  (4 GB RAM)</td>\n",
       "      <td>Royal Blue</td>\n",
       "      <td>4 GB RAM | 64 GB ROM | Expandable Upto 1 TB</td>\n",
       "      <td>8MP Dual Rear Camera | 5MP Front Camera</td>\n",
       "      <td>16.56 cm (6.52 inch) HD+ Display</td>\n",
       "      <td>5000 mAh Battery</td>\n",
       "      <td>₹6,499</td>\n",
       "      <td>https://www.flipkart.com/poco-c51-royal-blue-6...</td>\n",
       "    </tr>\n",
       "    <tr>\n",
       "      <th>5</th>\n",
       "      <td>realme C55 (Rainy Night, 128 GB)  (8 GB RAM)</td>\n",
       "      <td>Rainy Night</td>\n",
       "      <td>8 GB RAM | 128 GB ROM | Expandable Upto 1 TB</td>\n",
       "      <td>64MP + 2MP | 8MP Front Camera</td>\n",
       "      <td>17.07 cm (6.72 inch) Full HD+ Display</td>\n",
       "      <td>5000 mAh Battery</td>\n",
       "      <td>₹13,999</td>\n",
       "      <td>https://www.flipkart.com/realme-c55-rainy-nigh...</td>\n",
       "    </tr>\n",
       "    <tr>\n",
       "      <th>6</th>\n",
       "      <td>realme C55 (Rainforest, 128 GB)  (8 GB RAM)</td>\n",
       "      <td>Rainforest</td>\n",
       "      <td>8 GB RAM | 128 GB ROM | Expandable Upto 1 TB</td>\n",
       "      <td>64MP + 2MP | 8MP Front Camera</td>\n",
       "      <td>17.07 cm (6.72 inch) Full HD+ Display</td>\n",
       "      <td>5000 mAh Battery</td>\n",
       "      <td>₹13,999</td>\n",
       "      <td>https://www.flipkart.com/realme-c55-rainforest...</td>\n",
       "    </tr>\n",
       "    <tr>\n",
       "      <th>7</th>\n",
       "      <td>realme C55 (Sunshower, 64 GB)  (4 GB RAM)</td>\n",
       "      <td>Sunshower</td>\n",
       "      <td>4 GB RAM | 64 GB ROM | Expandable Upto 1 TB</td>\n",
       "      <td>64MP + 2MP | 8MP Front Camera</td>\n",
       "      <td>17.07 cm (6.72 inch) Full HD+ Display</td>\n",
       "      <td>5000 mAh Battery</td>\n",
       "      <td>₹10,999</td>\n",
       "      <td>https://www.flipkart.com/realme-c55-sunshower-...</td>\n",
       "    </tr>\n",
       "    <tr>\n",
       "      <th>8</th>\n",
       "      <td>realme C55 (Rainforest, 64 GB)  (6 GB RAM)</td>\n",
       "      <td>Rainforest</td>\n",
       "      <td>6 GB RAM | 64 GB ROM | Expandable Upto 1 TB</td>\n",
       "      <td>64MP + 2MP | 8MP Front Camera</td>\n",
       "      <td>17.07 cm (6.72 inch) Full HD+ Display</td>\n",
       "      <td>5000 mAh Battery</td>\n",
       "      <td>₹11,999</td>\n",
       "      <td>https://www.flipkart.com/realme-c55-rainforest...</td>\n",
       "    </tr>\n",
       "    <tr>\n",
       "      <th>9</th>\n",
       "      <td>realme C55 (Rainy Night, 64 GB)  (4 GB RAM)</td>\n",
       "      <td>Rainy Night</td>\n",
       "      <td>4 GB RAM | 64 GB ROM | Expandable Upto 1 TB</td>\n",
       "      <td>64MP + 2MP | 8MP Front Camera</td>\n",
       "      <td>17.07 cm (6.72 inch) Full HD+ Display</td>\n",
       "      <td>5000 mAh Battery</td>\n",
       "      <td>₹10,999</td>\n",
       "      <td>https://www.flipkart.com/realme-c55-rainy-nigh...</td>\n",
       "    </tr>\n",
       "    <tr>\n",
       "      <th>10</th>\n",
       "      <td>realme C55 (Rainforest, 64 GB)  (4 GB RAM)</td>\n",
       "      <td>Rainforest</td>\n",
       "      <td>4 GB RAM | 64 GB ROM | Expandable Upto 1 TB</td>\n",
       "      <td>64MP + 2MP | 8MP Front Camera</td>\n",
       "      <td>17.07 cm (6.72 inch) Full HD+ Display</td>\n",
       "      <td>5000 mAh Battery</td>\n",
       "      <td>₹10,999</td>\n",
       "      <td>https://www.flipkart.com/realme-c55-rainforest...</td>\n",
       "    </tr>\n",
       "    <tr>\n",
       "      <th>11</th>\n",
       "      <td>REDMI 12 (Moonstone Silver, 128 GB)  (4 GB RAM)</td>\n",
       "      <td>Moonstone Silver</td>\n",
       "      <td>4 GB RAM | 128 GB ROM | Expandable Upto 1 TB</td>\n",
       "      <td>50MP + 8MP + 2MP | 8MP Front Camera</td>\n",
       "      <td>17.25 cm (6.79 inch) Full HD+ Display</td>\n",
       "      <td>5000 mAh Battery</td>\n",
       "      <td>₹9,999</td>\n",
       "      <td>https://www.flipkart.com/redmi-12-moonstone-si...</td>\n",
       "    </tr>\n",
       "    <tr>\n",
       "      <th>12</th>\n",
       "      <td>realme C55 (Sunshower, 128 GB)  (8 GB RAM)</td>\n",
       "      <td>Sunshower</td>\n",
       "      <td>8 GB RAM | 128 GB ROM | Expandable Upto 1 TB</td>\n",
       "      <td>64MP + 2MP | 8MP Front Camera</td>\n",
       "      <td>17.07 cm (6.72 inch) Full HD+ Display</td>\n",
       "      <td>5000 mAh Battery</td>\n",
       "      <td>₹13,999</td>\n",
       "      <td>https://www.flipkart.com/realme-c55-sunshower-...</td>\n",
       "    </tr>\n",
       "    <tr>\n",
       "      <th>13</th>\n",
       "      <td>realme C55 (Sunshower, 64 GB)  (6 GB RAM)</td>\n",
       "      <td>Sunshower</td>\n",
       "      <td>6 GB RAM | 64 GB ROM | Expandable Upto 1 TB</td>\n",
       "      <td>64MP + 2MP | 8MP Front Camera</td>\n",
       "      <td>17.07 cm (6.72 inch) Full HD+ Display</td>\n",
       "      <td>5000 mAh Battery</td>\n",
       "      <td>₹11,999</td>\n",
       "      <td>https://www.flipkart.com/realme-c55-sunshower-...</td>\n",
       "    </tr>\n",
       "    <tr>\n",
       "      <th>14</th>\n",
       "      <td>POCO C50 (Royal Blue, 32 GB)  (2 GB RAM)</td>\n",
       "      <td>Royal Blue</td>\n",
       "      <td>2 GB RAM | 32 GB ROM | Expandable Upto 512 GB</td>\n",
       "      <td>8MP Dual Camera | 5MP Front Camera</td>\n",
       "      <td>16.56 cm (6.52 inch) HD+ Display</td>\n",
       "      <td>5000 mAh Lithium Polymer Battery</td>\n",
       "      <td>₹5,499</td>\n",
       "      <td>https://www.flipkart.com/poco-c50-royal-blue-3...</td>\n",
       "    </tr>\n",
       "    <tr>\n",
       "      <th>15</th>\n",
       "      <td>realme C55 (Rainy Night, 64 GB)  (6 GB RAM)</td>\n",
       "      <td>Rainy Night</td>\n",
       "      <td>6 GB RAM | 64 GB ROM | Expandable Upto 1 TB</td>\n",
       "      <td>64MP + 2MP | 8MP Front Camera</td>\n",
       "      <td>17.07 cm (6.72 inch) Full HD+ Display</td>\n",
       "      <td>5000 mAh Battery</td>\n",
       "      <td>₹11,999</td>\n",
       "      <td>https://www.flipkart.com/realme-c55-rainy-nigh...</td>\n",
       "    </tr>\n",
       "    <tr>\n",
       "      <th>16</th>\n",
       "      <td>Infinix HOT 20 Play (Luna Blue, 64 GB)  (4 GB ...</td>\n",
       "      <td>Luna Blue</td>\n",
       "      <td>4 GB RAM | 64 GB ROM | Expandable Upto 256 GB</td>\n",
       "      <td>13Mp + AI Lens | 8MP Front Camera</td>\n",
       "      <td>17.32 cm (6.82 inch) HD+ Display</td>\n",
       "      <td>6000 mAh Li-ion Polymer Battery</td>\n",
       "      <td>₹7,999</td>\n",
       "      <td>https://www.flipkart.com/infinix-hot-20-play-l...</td>\n",
       "    </tr>\n",
       "    <tr>\n",
       "      <th>17</th>\n",
       "      <td>Infinix HOT 20 Play (Fantasy Purple, 64 GB)  (...</td>\n",
       "      <td>Fantasy Purple</td>\n",
       "      <td>4 GB RAM | 64 GB ROM | Expandable Upto 256 GB</td>\n",
       "      <td>13Mp + AI Lens | 8MP Front Camera</td>\n",
       "      <td>17.32 cm (6.82 inch) HD+ Display</td>\n",
       "      <td>6000 mAh Li-ion Polymer Battery</td>\n",
       "      <td>₹7,999</td>\n",
       "      <td>https://www.flipkart.com/infinix-hot-20-play-f...</td>\n",
       "    </tr>\n",
       "    <tr>\n",
       "      <th>18</th>\n",
       "      <td>Infinix HOT 20 Play (Aurora Green, 64 GB)  (4 ...</td>\n",
       "      <td>Aurora Green</td>\n",
       "      <td>4 GB RAM | 64 GB ROM | Expandable Upto 256 GB</td>\n",
       "      <td>13Mp + AI Lens | 8MP Front Camera</td>\n",
       "      <td>17.32 cm (6.82 inch) HD+ Display</td>\n",
       "      <td>6000 mAh Li-ion Polymer Battery</td>\n",
       "      <td>₹7,999</td>\n",
       "      <td>https://www.flipkart.com/infinix-hot-20-play-a...</td>\n",
       "    </tr>\n",
       "    <tr>\n",
       "      <th>19</th>\n",
       "      <td>MOTOROLA e13 (Aurora Green, 64 GB)  (4 GB RAM)</td>\n",
       "      <td>Aurora Green</td>\n",
       "      <td>4 GB RAM | 64 GB ROM | Expandable Upto 1 TB</td>\n",
       "      <td>13MP Rear Camera | 5MP Front Camera</td>\n",
       "      <td>16.51 cm (6.5 inch) HD+ Display</td>\n",
       "      <td>5000 mAh Battery</td>\n",
       "      <td>₹7,299</td>\n",
       "      <td>https://www.flipkart.com/motorola-e13-aurora-g...</td>\n",
       "    </tr>\n",
       "    <tr>\n",
       "      <th>20</th>\n",
       "      <td>POCO C50 (Country Green, 32 GB)  (2 GB RAM)</td>\n",
       "      <td>Country Green</td>\n",
       "      <td>2 GB RAM | 32 GB ROM | Expandable Upto 512 GB</td>\n",
       "      <td>8MP Dual Camera | 5MP Front Camera</td>\n",
       "      <td>16.56 cm (6.52 inch) HD+ Display</td>\n",
       "      <td>5000 mAh Lithium Polymer Battery</td>\n",
       "      <td>₹5,499</td>\n",
       "      <td>https://www.flipkart.com/poco-c50-country-gree...</td>\n",
       "    </tr>\n",
       "    <tr>\n",
       "      <th>21</th>\n",
       "      <td>APPLE iPhone 11 (Black, 128 GB)</td>\n",
       "      <td>_</td>\n",
       "      <td>128 GB ROM</td>\n",
       "      <td>12MP + 12MP | 12MP Front Camera</td>\n",
       "      <td>15.49 cm (6.1 inch) Liquid Retina HD Display</td>\n",
       "      <td>A13 Bionic Chip Processor</td>\n",
       "      <td>₹40,999</td>\n",
       "      <td>https://www.flipkart.com/apple-iphone-11-black...</td>\n",
       "    </tr>\n",
       "    <tr>\n",
       "      <th>22</th>\n",
       "      <td>vivo T2x 5G (Aurora Gold, 128 GB)  (8 GB RAM)</td>\n",
       "      <td>Aurora Gold</td>\n",
       "      <td>8 GB RAM | 128 GB ROM</td>\n",
       "      <td>50MP + 2MP | 8MP Front Camera</td>\n",
       "      <td>16.71 cm (6.58 inch) Full HD+ Display</td>\n",
       "      <td>5000 mAh Battery</td>\n",
       "      <td>₹15,999</td>\n",
       "      <td>https://www.flipkart.com/vivo-t2x-5g-aurora-go...</td>\n",
       "    </tr>\n",
       "    <tr>\n",
       "      <th>23</th>\n",
       "      <td>vivo T2x 5G (Glimmer Black, 128 GB)  (8 GB RAM)</td>\n",
       "      <td>Glimmer Black</td>\n",
       "      <td>8 GB RAM | 128 GB ROM</td>\n",
       "      <td>50MP + 2MP | 8MP Front Camera</td>\n",
       "      <td>16.71 cm (6.58 inch) Full HD+ Display</td>\n",
       "      <td>5000 mAh Battery</td>\n",
       "      <td>₹15,999</td>\n",
       "      <td>https://www.flipkart.com/vivo-t2x-5g-glimmer-b...</td>\n",
       "    </tr>\n",
       "  </tbody>\n",
       "</table>\n",
       "</div>"
      ],
      "text/plain": [
       "                                           Brand Name            Colour  \\\n",
       "0   SAMSUNG Galaxy F13 (Nightsky Green, 64 GB)  (4...    Nightsky Green   \n",
       "1   SAMSUNG Galaxy F13 (Waterfall Blue, 64 GB)  (4...    Waterfall Blue   \n",
       "2   SAMSUNG Galaxy F13 (Sunrise Copper, 64 GB)  (4...    Sunrise Copper   \n",
       "3           POCO C51 (Power Black, 64 GB)  (4 GB RAM)       Power Black   \n",
       "4            POCO C51 (Royal Blue, 64 GB)  (4 GB RAM)        Royal Blue   \n",
       "5        realme C55 (Rainy Night, 128 GB)  (8 GB RAM)       Rainy Night   \n",
       "6         realme C55 (Rainforest, 128 GB)  (8 GB RAM)        Rainforest   \n",
       "7           realme C55 (Sunshower, 64 GB)  (4 GB RAM)         Sunshower   \n",
       "8          realme C55 (Rainforest, 64 GB)  (6 GB RAM)        Rainforest   \n",
       "9         realme C55 (Rainy Night, 64 GB)  (4 GB RAM)       Rainy Night   \n",
       "10         realme C55 (Rainforest, 64 GB)  (4 GB RAM)        Rainforest   \n",
       "11    REDMI 12 (Moonstone Silver, 128 GB)  (4 GB RAM)  Moonstone Silver   \n",
       "12         realme C55 (Sunshower, 128 GB)  (8 GB RAM)         Sunshower   \n",
       "13          realme C55 (Sunshower, 64 GB)  (6 GB RAM)         Sunshower   \n",
       "14           POCO C50 (Royal Blue, 32 GB)  (2 GB RAM)        Royal Blue   \n",
       "15        realme C55 (Rainy Night, 64 GB)  (6 GB RAM)       Rainy Night   \n",
       "16  Infinix HOT 20 Play (Luna Blue, 64 GB)  (4 GB ...         Luna Blue   \n",
       "17  Infinix HOT 20 Play (Fantasy Purple, 64 GB)  (...    Fantasy Purple   \n",
       "18  Infinix HOT 20 Play (Aurora Green, 64 GB)  (4 ...      Aurora Green   \n",
       "19     MOTOROLA e13 (Aurora Green, 64 GB)  (4 GB RAM)      Aurora Green   \n",
       "20        POCO C50 (Country Green, 32 GB)  (2 GB RAM)     Country Green   \n",
       "21                    APPLE iPhone 11 (Black, 128 GB)                 _   \n",
       "22      vivo T2x 5G (Aurora Gold, 128 GB)  (8 GB RAM)       Aurora Gold   \n",
       "23    vivo T2x 5G (Glimmer Black, 128 GB)  (8 GB RAM)     Glimmer Black   \n",
       "\n",
       "                                  Storage-RAM/ROM  \\\n",
       "0     4 GB RAM | 64 GB ROM | Expandable Upto 1 TB   \n",
       "1     4 GB RAM | 64 GB ROM | Expandable Upto 1 TB   \n",
       "2     4 GB RAM | 64 GB ROM | Expandable Upto 1 TB   \n",
       "3     4 GB RAM | 64 GB ROM | Expandable Upto 1 TB   \n",
       "4     4 GB RAM | 64 GB ROM | Expandable Upto 1 TB   \n",
       "5    8 GB RAM | 128 GB ROM | Expandable Upto 1 TB   \n",
       "6    8 GB RAM | 128 GB ROM | Expandable Upto 1 TB   \n",
       "7     4 GB RAM | 64 GB ROM | Expandable Upto 1 TB   \n",
       "8     6 GB RAM | 64 GB ROM | Expandable Upto 1 TB   \n",
       "9     4 GB RAM | 64 GB ROM | Expandable Upto 1 TB   \n",
       "10    4 GB RAM | 64 GB ROM | Expandable Upto 1 TB   \n",
       "11   4 GB RAM | 128 GB ROM | Expandable Upto 1 TB   \n",
       "12   8 GB RAM | 128 GB ROM | Expandable Upto 1 TB   \n",
       "13    6 GB RAM | 64 GB ROM | Expandable Upto 1 TB   \n",
       "14  2 GB RAM | 32 GB ROM | Expandable Upto 512 GB   \n",
       "15    6 GB RAM | 64 GB ROM | Expandable Upto 1 TB   \n",
       "16  4 GB RAM | 64 GB ROM | Expandable Upto 256 GB   \n",
       "17  4 GB RAM | 64 GB ROM | Expandable Upto 256 GB   \n",
       "18  4 GB RAM | 64 GB ROM | Expandable Upto 256 GB   \n",
       "19    4 GB RAM | 64 GB ROM | Expandable Upto 1 TB   \n",
       "20  2 GB RAM | 32 GB ROM | Expandable Upto 512 GB   \n",
       "21                                     128 GB ROM   \n",
       "22                          8 GB RAM | 128 GB ROM   \n",
       "23                          8 GB RAM | 128 GB ROM   \n",
       "\n",
       "                                     Camera  \\\n",
       "0       50MP + 5MP + 2MP | 8MP Front Camera   \n",
       "1       50MP + 5MP + 2MP | 8MP Front Camera   \n",
       "2       50MP + 5MP + 2MP | 8MP Front Camera   \n",
       "3   8MP Dual Rear Camera | 5MP Front Camera   \n",
       "4   8MP Dual Rear Camera | 5MP Front Camera   \n",
       "5             64MP + 2MP | 8MP Front Camera   \n",
       "6             64MP + 2MP | 8MP Front Camera   \n",
       "7             64MP + 2MP | 8MP Front Camera   \n",
       "8             64MP + 2MP | 8MP Front Camera   \n",
       "9             64MP + 2MP | 8MP Front Camera   \n",
       "10            64MP + 2MP | 8MP Front Camera   \n",
       "11      50MP + 8MP + 2MP | 8MP Front Camera   \n",
       "12            64MP + 2MP | 8MP Front Camera   \n",
       "13            64MP + 2MP | 8MP Front Camera   \n",
       "14       8MP Dual Camera | 5MP Front Camera   \n",
       "15            64MP + 2MP | 8MP Front Camera   \n",
       "16        13Mp + AI Lens | 8MP Front Camera   \n",
       "17        13Mp + AI Lens | 8MP Front Camera   \n",
       "18        13Mp + AI Lens | 8MP Front Camera   \n",
       "19      13MP Rear Camera | 5MP Front Camera   \n",
       "20       8MP Dual Camera | 5MP Front Camera   \n",
       "21          12MP + 12MP | 12MP Front Camera   \n",
       "22            50MP + 2MP | 8MP Front Camera   \n",
       "23            50MP + 2MP | 8MP Front Camera   \n",
       "\n",
       "                                    Dispaly Size  \\\n",
       "0           16.76 cm (6.6 inch) Full HD+ Display   \n",
       "1           16.76 cm (6.6 inch) Full HD+ Display   \n",
       "2           16.76 cm (6.6 inch) Full HD+ Display   \n",
       "3               16.56 cm (6.52 inch) HD+ Display   \n",
       "4               16.56 cm (6.52 inch) HD+ Display   \n",
       "5          17.07 cm (6.72 inch) Full HD+ Display   \n",
       "6          17.07 cm (6.72 inch) Full HD+ Display   \n",
       "7          17.07 cm (6.72 inch) Full HD+ Display   \n",
       "8          17.07 cm (6.72 inch) Full HD+ Display   \n",
       "9          17.07 cm (6.72 inch) Full HD+ Display   \n",
       "10         17.07 cm (6.72 inch) Full HD+ Display   \n",
       "11         17.25 cm (6.79 inch) Full HD+ Display   \n",
       "12         17.07 cm (6.72 inch) Full HD+ Display   \n",
       "13         17.07 cm (6.72 inch) Full HD+ Display   \n",
       "14              16.56 cm (6.52 inch) HD+ Display   \n",
       "15         17.07 cm (6.72 inch) Full HD+ Display   \n",
       "16              17.32 cm (6.82 inch) HD+ Display   \n",
       "17              17.32 cm (6.82 inch) HD+ Display   \n",
       "18              17.32 cm (6.82 inch) HD+ Display   \n",
       "19               16.51 cm (6.5 inch) HD+ Display   \n",
       "20              16.56 cm (6.52 inch) HD+ Display   \n",
       "21  15.49 cm (6.1 inch) Liquid Retina HD Display   \n",
       "22         16.71 cm (6.58 inch) Full HD+ Display   \n",
       "23         16.71 cm (6.58 inch) Full HD+ Display   \n",
       "\n",
       "                    Battery Capacity    Price  \\\n",
       "0       6000 mAh Lithium Ion Battery  ₹10,999   \n",
       "1       6000 mAh Lithium Ion Battery  ₹10,999   \n",
       "2       6000 mAh Lithium Ion Battery  ₹10,999   \n",
       "3                   5000 mAh Battery   ₹6,499   \n",
       "4                   5000 mAh Battery   ₹6,499   \n",
       "5                   5000 mAh Battery  ₹13,999   \n",
       "6                   5000 mAh Battery  ₹13,999   \n",
       "7                   5000 mAh Battery  ₹10,999   \n",
       "8                   5000 mAh Battery  ₹11,999   \n",
       "9                   5000 mAh Battery  ₹10,999   \n",
       "10                  5000 mAh Battery  ₹10,999   \n",
       "11                  5000 mAh Battery   ₹9,999   \n",
       "12                  5000 mAh Battery  ₹13,999   \n",
       "13                  5000 mAh Battery  ₹11,999   \n",
       "14  5000 mAh Lithium Polymer Battery   ₹5,499   \n",
       "15                  5000 mAh Battery  ₹11,999   \n",
       "16   6000 mAh Li-ion Polymer Battery   ₹7,999   \n",
       "17   6000 mAh Li-ion Polymer Battery   ₹7,999   \n",
       "18   6000 mAh Li-ion Polymer Battery   ₹7,999   \n",
       "19                  5000 mAh Battery   ₹7,299   \n",
       "20  5000 mAh Lithium Polymer Battery   ₹5,499   \n",
       "21         A13 Bionic Chip Processor  ₹40,999   \n",
       "22                  5000 mAh Battery  ₹15,999   \n",
       "23                  5000 mAh Battery  ₹15,999   \n",
       "\n",
       "                                          Product URL  \n",
       "0   https://www.flipkart.com/samsung-galaxy-f13-ni...  \n",
       "1   https://www.flipkart.com/samsung-galaxy-f13-wa...  \n",
       "2   https://www.flipkart.com/samsung-galaxy-f13-su...  \n",
       "3   https://www.flipkart.com/poco-c51-power-black-...  \n",
       "4   https://www.flipkart.com/poco-c51-royal-blue-6...  \n",
       "5   https://www.flipkart.com/realme-c55-rainy-nigh...  \n",
       "6   https://www.flipkart.com/realme-c55-rainforest...  \n",
       "7   https://www.flipkart.com/realme-c55-sunshower-...  \n",
       "8   https://www.flipkart.com/realme-c55-rainforest...  \n",
       "9   https://www.flipkart.com/realme-c55-rainy-nigh...  \n",
       "10  https://www.flipkart.com/realme-c55-rainforest...  \n",
       "11  https://www.flipkart.com/redmi-12-moonstone-si...  \n",
       "12  https://www.flipkart.com/realme-c55-sunshower-...  \n",
       "13  https://www.flipkart.com/realme-c55-sunshower-...  \n",
       "14  https://www.flipkart.com/poco-c50-royal-blue-3...  \n",
       "15  https://www.flipkart.com/realme-c55-rainy-nigh...  \n",
       "16  https://www.flipkart.com/infinix-hot-20-play-l...  \n",
       "17  https://www.flipkart.com/infinix-hot-20-play-f...  \n",
       "18  https://www.flipkart.com/infinix-hot-20-play-a...  \n",
       "19  https://www.flipkart.com/motorola-e13-aurora-g...  \n",
       "20  https://www.flipkart.com/poco-c50-country-gree...  \n",
       "21  https://www.flipkart.com/apple-iphone-11-black...  \n",
       "22  https://www.flipkart.com/vivo-t2x-5g-aurora-go...  \n",
       "23  https://www.flipkart.com/vivo-t2x-5g-glimmer-b...  "
      ]
     },
     "execution_count": 39,
     "metadata": {},
     "output_type": "execute_result"
    }
   ],
   "source": [
    "# now making DF\n",
    "import pandas as pd\n",
    "df=pd.DataFrame({'Brand Name':brand,'Colour':colour,'Storage-RAM/ROM':ram_rom,'Camera':camera,'Dispaly Size':disp_size,'Battery Capacity':batt_cap,'Price':price,'Product URL':product_urls})\n",
    "df"
   ]
  },
  {
   "cell_type": "markdown",
   "id": "30bfb802",
   "metadata": {},
   "source": [
    "\n",
    "5. Write a program to scrap geospatial coordinates (latitude, longitude) of a city searched on google maps."
   ]
  },
  {
   "cell_type": "code",
   "execution_count": 8,
   "id": "16647da0",
   "metadata": {},
   "outputs": [],
   "source": [
    "driver = webdriver.Chrome()"
   ]
  },
  {
   "cell_type": "code",
   "execution_count": 9,
   "id": "a36ffbf3",
   "metadata": {},
   "outputs": [],
   "source": [
    "# Opening Google Maps\n",
    "driver.get(\"https://www.google.com/maps\")\n",
    "time.sleep(5)\n",
    "\n",
    "#maximize the window\n",
    "driver.maximize_window()"
   ]
  },
  {
   "cell_type": "code",
   "execution_count": 10,
   "id": "b3823d7c",
   "metadata": {},
   "outputs": [
    {
     "name": "stdout",
     "output_type": "stream",
     "text": [
      "Enter the name of the city: New Delhi\n"
     ]
    }
   ],
   "source": [
    "city_name = input(\"Enter the name of the city: \")"
   ]
  },
  {
   "cell_type": "code",
   "execution_count": 11,
   "id": "d6978dd5",
   "metadata": {},
   "outputs": [],
   "source": [
    "search_input = driver.find_element(By.NAME,\"q\")\n",
    "search_input.send_keys(city_name)\n"
   ]
  },
  {
   "cell_type": "code",
   "execution_count": 12,
   "id": "bf5d9c31",
   "metadata": {},
   "outputs": [],
   "source": [
    "# Clicking the search button\n",
    "search_button = driver.find_element(By.XPATH,'//button[@class=\"mL3xi google-symbols\"]')\n",
    "search_button.click()"
   ]
  },
  {
   "cell_type": "code",
   "execution_count": 13,
   "id": "6d2e0883",
   "metadata": {},
   "outputs": [
    {
     "name": "stdout",
     "output_type": "stream",
     "text": [
      "URL Extracted:  https://www.google.com/maps/place/New+Delhi,+Delhi/@28.5272527,77.0441695,11z/data=!3m1!4b1!4m6!3m5!1s0x390cfd5b347eb62d:0x52c2b7494e204dce!8m2!3d28.6139391!4d77.2090212!16zL20vMGRsdjA?entry=ttu\n",
      "Error extracting coordinates: name 'split' is not defined\n"
     ]
    }
   ],
   "source": [
    "\n",
    "try:\n",
    "    url_string=driver.current_url\n",
    "    print(\"URL Extracted: \",url_string)\n",
    "    lag_lat=re.findall(r'@(.*)data',url_string)\n",
    "    split(\",\")[0:2]\n",
    "    latitude,longitude = map(float,lag_lat)\n",
    "    print(f\"Latitude: {latitude}, Longitude: {longitude}\")\n",
    "    \n",
    "except Exception as e:\n",
    "    print(\"Error extracting coordinates:\", str(e))\n",
    "       "
   ]
  },
  {
   "cell_type": "code",
   "execution_count": 16,
   "id": "ea05a90d",
   "metadata": {},
   "outputs": [
    {
     "name": "stdout",
     "output_type": "stream",
     "text": [
      "latitude of New Delhi is : 28.5272527 and Longitude is 77.0441695\n"
     ]
    }
   ],
   "source": [
    "urlsplit=url_string.split('@')\n",
    "data=urlsplit[1].split(',')[:2]\n",
    "latitude =data[0]\n",
    "longitude=data[1]\n",
    "\n",
    "print (f\"latitude of {city_name} is : {latitude} and Longitude is {longitude}\" )"
   ]
  },
  {
   "cell_type": "markdown",
   "id": "88efb43f",
   "metadata": {},
   "source": [
    "Q6 : \n",
    "\n",
    "Write a program to scrap all the available details of best gaming laptops from digit.in."
   ]
  },
  {
   "cell_type": "code",
   "execution_count": 52,
   "id": "09c33265",
   "metadata": {},
   "outputs": [],
   "source": [
    "driver = webdriver.Chrome()"
   ]
  },
  {
   "cell_type": "code",
   "execution_count": 53,
   "id": "14ce77c1",
   "metadata": {},
   "outputs": [],
   "source": [
    "# Opening digit website\n",
    "driver.get(\"https://www.digit.in/top-products/best-gaming-laptops-40.html\")\n",
    "driver.maximize_window()"
   ]
  },
  {
   "cell_type": "code",
   "execution_count": 54,
   "id": "17a822c9",
   "metadata": {},
   "outputs": [],
   "source": [
    "brand=[]\n",
    "process=[]\n",
    "disp=[]\n",
    "os=[]\n",
    "mem=[]\n",
    "graph_proc=[]\n",
    "price=[]"
   ]
  },
  {
   "cell_type": "code",
   "execution_count": 55,
   "id": "08d5d288",
   "metadata": {},
   "outputs": [],
   "source": [
    "try:\n",
    "    brand_ele=driver.find_elements(By.XPATH,'//span[@class=\"datahreflink\"]')\n",
    "    for i in brand_ele[:7]:\n",
    "        brand.append(i.text)\n",
    "except:\n",
    "    pass\n",
    "\n",
    "try:\n",
    "    process_ele=driver.find_elements(By.XPATH,'//div[@class=\"Spcs-details\"]/table/tbody/tr[2]/td[3]')\n",
    "    for i in process_ele:\n",
    "        process.append(i.text)\n",
    "except:\n",
    "    pass\n",
    "\n",
    "try:\n",
    "    disp_ele=driver.find_elements(By.XPATH,'//div[@class=\"Spcs-details\"]/table/tbody/tr[3]/td[3]')\n",
    "    for i in disp_ele:\n",
    "        disp.append(i.text)\n",
    "except:\n",
    "    pass\n",
    "    \n",
    "try:\n",
    "    os_ele=driver.find_elements(By.XPATH,'//div[@class=\"Spcs-details\"]/table/tbody/tr[4]/td[3]')\n",
    "    for i in os_ele:\n",
    "        os.append(i.text)\n",
    "except:\n",
    "    pass\n",
    "    \n",
    "    \n",
    "try:\n",
    "    mem_ele=driver.find_elements(By.XPATH,'//div[@class=\"Spcs-details\"]/table/tbody/tr[5]/td[3]')\n",
    "    for i in mem_ele:\n",
    "        mem.append(i.text)\n",
    "except:\n",
    "    pass\n",
    "\n",
    "    \n",
    "    \n",
    "try:\n",
    "    graph_proc_ele=driver.find_elements(By.XPATH,'//div[@class=\"Spcs-details\"]/table/tbody/tr[6]/td[3]')\n",
    "    for i in graph_proc_ele:\n",
    "        graph_proc.append(i.text)\n",
    "except:\n",
    "    pass\n",
    "\n",
    "    \n",
    "    \n",
    "try:\n",
    "    price_ele=driver.find_elements(By.XPATH,'//div[@class=\"Spcs-details\"]/table/tbody/tr[8]/td[3]')\n",
    "    for i in price_ele:\n",
    "        price.append(i.text)\n",
    "except:\n",
    "    pass\n"
   ]
  },
  {
   "cell_type": "code",
   "execution_count": 56,
   "id": "2b2467c7",
   "metadata": {},
   "outputs": [
    {
     "name": "stdout",
     "output_type": "stream",
     "text": [
      "7 7 7 7 7 7 7\n"
     ]
    }
   ],
   "source": [
    "print(len(brand),len(process),len(disp),len(os),len(mem),len(graph_proc),len(price))"
   ]
  },
  {
   "cell_type": "code",
   "execution_count": 57,
   "id": "49073ee7",
   "metadata": {},
   "outputs": [],
   "source": [
    "max_length = max(len(brand),len(process),len(disp),len(os),len(mem),len(graph_proc),len(price))\n",
    "\n",
    "# Pad shorter lists with default values (e.g., None or empty string) to make them the same length\n",
    "brand      += [None] * (max_length - len(brand))\n",
    "process    += [None] * (max_length - len(process)) \n",
    "disp       += [None] * (max_length - len(disp))\n",
    "os         += [None] * (max_length - len(os))        \n",
    "mem        += [None] * (max_length - len(mem))\n",
    "graph_proc += [None] * (max_length - len(graph_proc))               \n",
    "price      += [None] * (max_length - len(price))"
   ]
  },
  {
   "cell_type": "code",
   "execution_count": 58,
   "id": "b21704e2",
   "metadata": {},
   "outputs": [
    {
     "data": {
      "text/html": [
       "<div>\n",
       "<style scoped>\n",
       "    .dataframe tbody tr th:only-of-type {\n",
       "        vertical-align: middle;\n",
       "    }\n",
       "\n",
       "    .dataframe tbody tr th {\n",
       "        vertical-align: top;\n",
       "    }\n",
       "\n",
       "    .dataframe thead th {\n",
       "        text-align: right;\n",
       "    }\n",
       "</style>\n",
       "<table border=\"1\" class=\"dataframe\">\n",
       "  <thead>\n",
       "    <tr style=\"text-align: right;\">\n",
       "      <th></th>\n",
       "      <th>Laptop Brand</th>\n",
       "      <th>Processor</th>\n",
       "      <th>Display</th>\n",
       "      <th>Operating System</th>\n",
       "      <th>Memory</th>\n",
       "      <th>Graphical Processor</th>\n",
       "      <th>Price</th>\n",
       "    </tr>\n",
       "  </thead>\n",
       "  <tbody>\n",
       "    <tr>\n",
       "      <th>0</th>\n",
       "      <td>HP OMEN 17 (2023)</td>\n",
       "      <td>13th Gen Intel Core i7-13700HX 16 core process...</td>\n",
       "      <td>17.3″ (2560 x 1440) screen, 165 Hz refresh rate</td>\n",
       "      <td>Windows 11 Home</td>\n",
       "      <td>16 GB DDR5GB RAM &amp; 1 TB SSD</td>\n",
       "      <td>12 GB DDR6 NVIDIA GeForce RTX 4080 Graphics card</td>\n",
       "      <td>₹ 269,777</td>\n",
       "    </tr>\n",
       "    <tr>\n",
       "      <th>1</th>\n",
       "      <td>MSI Titan GT77 12UHS</td>\n",
       "      <td>12th Gen Intel Core i9-12900HX 16 core process...</td>\n",
       "      <td>17.3″ (3840 x 2160) screen, 120 Hz refresh rate</td>\n",
       "      <td>Windows 11 Home</td>\n",
       "      <td>64 GB DDR5GB RAM &amp; 2 TB SSD</td>\n",
       "      <td>16 GB DDR6 NVIDIA GeForce RTX 3080Ti Graphics ...</td>\n",
       "      <td>₹ 499,990</td>\n",
       "    </tr>\n",
       "    <tr>\n",
       "      <th>2</th>\n",
       "      <td>Lenovo Legion 5i Pro</td>\n",
       "      <td>12th Gen Intel Core i7-12700H 14 core processo...</td>\n",
       "      <td>16″ (2560 x 1600) screen</td>\n",
       "      <td>Windows 11 Home</td>\n",
       "      <td>32 GB DDR5GB RAM &amp; 1 TB SSD</td>\n",
       "      <td>NVIDIA GeForce RTX 3070 Ti Graphics card</td>\n",
       "      <td>₹ 179,990</td>\n",
       "    </tr>\n",
       "    <tr>\n",
       "      <th>3</th>\n",
       "      <td>ASUS ROG Strix Scar 18 2023</td>\n",
       "      <td>13th Gen Intel Core i9-13980HX 24 core process...</td>\n",
       "      <td>18″ (1920 x 1200) screen, 165 Hz refresh rate</td>\n",
       "      <td>Windows 11 Home</td>\n",
       "      <td>32 GB DDR5GB RAM &amp; 1 TB SSD</td>\n",
       "      <td>12 GB DDR6 NVIDIA GeForce RTX 4080 Graphics card</td>\n",
       "      <td>₹ 279,990</td>\n",
       "    </tr>\n",
       "    <tr>\n",
       "      <th>4</th>\n",
       "      <td>Acer Predator Helios Neo 16</td>\n",
       "      <td>13th Gen Intel Core i7-13700HX processor</td>\n",
       "      <td>16″ (2560 x 1600) screen, 165 Hz refresh rate</td>\n",
       "      <td>Windows 11 Home</td>\n",
       "      <td>16 GB DDR5GB RAM &amp; 1 TB SSD</td>\n",
       "      <td>8 GB DDR6 NVIDIA GeForce RTX 4060 Graphics card</td>\n",
       "      <td>₹ 149,990</td>\n",
       "    </tr>\n",
       "    <tr>\n",
       "      <th>5</th>\n",
       "      <td>ASUS ROG Zephyrus G14</td>\n",
       "      <td>AMD Ryzen 9-6900HS 8 core processor with 4.9 G...</td>\n",
       "      <td>14″ (1920 x 1200) screen, 144 Hz refresh rate</td>\n",
       "      <td>Windows 11 Home</td>\n",
       "      <td>16 GB DDR5GB RAM &amp; 1 TB SSD</td>\n",
       "      <td>8 GB DDR6 AMD Radeon RX 6700S Graphics card</td>\n",
       "      <td>₹ 156,990</td>\n",
       "    </tr>\n",
       "    <tr>\n",
       "      <th>6</th>\n",
       "      <td>MSI Cyborg 15</td>\n",
       "      <td>12th Gen Intel Core i7-12650H 10 core processo...</td>\n",
       "      <td>15.6″ (1920 x 1080) screen, 144 Hz refresh rate</td>\n",
       "      <td>Windows 11 Home</td>\n",
       "      <td>16 GB DDR5GB RAM &amp; 1 TB SSD</td>\n",
       "      <td>8 GB DDR6 NVIDIA GeForce RTX 4060 Graphics card</td>\n",
       "      <td>₹ 125,000</td>\n",
       "    </tr>\n",
       "  </tbody>\n",
       "</table>\n",
       "</div>"
      ],
      "text/plain": [
       "                  Laptop Brand  \\\n",
       "0            HP OMEN 17 (2023)   \n",
       "1         MSI Titan GT77 12UHS   \n",
       "2         Lenovo Legion 5i Pro   \n",
       "3  ASUS ROG Strix Scar 18 2023   \n",
       "4  Acer Predator Helios Neo 16   \n",
       "5        ASUS ROG Zephyrus G14   \n",
       "6                MSI Cyborg 15   \n",
       "\n",
       "                                           Processor  \\\n",
       "0  13th Gen Intel Core i7-13700HX 16 core process...   \n",
       "1  12th Gen Intel Core i9-12900HX 16 core process...   \n",
       "2  12th Gen Intel Core i7-12700H 14 core processo...   \n",
       "3  13th Gen Intel Core i9-13980HX 24 core process...   \n",
       "4           13th Gen Intel Core i7-13700HX processor   \n",
       "5  AMD Ryzen 9-6900HS 8 core processor with 4.9 G...   \n",
       "6  12th Gen Intel Core i7-12650H 10 core processo...   \n",
       "\n",
       "                                           Display Operating System  \\\n",
       "0  17.3″ (2560 x 1440) screen, 165 Hz refresh rate  Windows 11 Home   \n",
       "1  17.3″ (3840 x 2160) screen, 120 Hz refresh rate  Windows 11 Home   \n",
       "2                         16″ (2560 x 1600) screen  Windows 11 Home   \n",
       "3    18″ (1920 x 1200) screen, 165 Hz refresh rate  Windows 11 Home   \n",
       "4    16″ (2560 x 1600) screen, 165 Hz refresh rate  Windows 11 Home   \n",
       "5    14″ (1920 x 1200) screen, 144 Hz refresh rate  Windows 11 Home   \n",
       "6  15.6″ (1920 x 1080) screen, 144 Hz refresh rate  Windows 11 Home   \n",
       "\n",
       "                        Memory  \\\n",
       "0  16 GB DDR5GB RAM & 1 TB SSD   \n",
       "1  64 GB DDR5GB RAM & 2 TB SSD   \n",
       "2  32 GB DDR5GB RAM & 1 TB SSD   \n",
       "3  32 GB DDR5GB RAM & 1 TB SSD   \n",
       "4  16 GB DDR5GB RAM & 1 TB SSD   \n",
       "5  16 GB DDR5GB RAM & 1 TB SSD   \n",
       "6  16 GB DDR5GB RAM & 1 TB SSD   \n",
       "\n",
       "                                 Graphical Processor      Price  \n",
       "0   12 GB DDR6 NVIDIA GeForce RTX 4080 Graphics card  ₹ 269,777  \n",
       "1  16 GB DDR6 NVIDIA GeForce RTX 3080Ti Graphics ...  ₹ 499,990  \n",
       "2           NVIDIA GeForce RTX 3070 Ti Graphics card  ₹ 179,990  \n",
       "3   12 GB DDR6 NVIDIA GeForce RTX 4080 Graphics card  ₹ 279,990  \n",
       "4    8 GB DDR6 NVIDIA GeForce RTX 4060 Graphics card  ₹ 149,990  \n",
       "5        8 GB DDR6 AMD Radeon RX 6700S Graphics card  ₹ 156,990  \n",
       "6    8 GB DDR6 NVIDIA GeForce RTX 4060 Graphics card  ₹ 125,000  "
      ]
     },
     "execution_count": 58,
     "metadata": {},
     "output_type": "execute_result"
    }
   ],
   "source": [
    "# now making DF\n",
    "import pandas as pd\n",
    "df=pd.DataFrame({'Laptop Brand':brand,'Processor':process,'Display':disp,'Operating System':os,'Memory':mem,'Graphical Processor':graph_proc,'Price':price})\n",
    "df"
   ]
  },
  {
   "cell_type": "code",
   "execution_count": 59,
   "id": "b041a373",
   "metadata": {},
   "outputs": [],
   "source": [
    "driver.close()"
   ]
  },
  {
   "cell_type": "markdown",
   "id": "baa004b9",
   "metadata": {},
   "source": [
    "7. Write a python program to scrape the details for all billionaires from www.forbes.com. Details to be scrapped: \n",
    "“Rank”, “Name”, “Net worth”, “Age”, “Citizenship”, “Source”, “Industry”."
   ]
  },
  {
   "cell_type": "code",
   "execution_count": 69,
   "id": "0b1894c2",
   "metadata": {},
   "outputs": [],
   "source": [
    "driver = webdriver.Chrome()"
   ]
  },
  {
   "cell_type": "code",
   "execution_count": 70,
   "id": "a7b31918",
   "metadata": {},
   "outputs": [],
   "source": [
    "# Opening Billioniar list\n",
    "driver.get(\"https://www.forbes.com/billionaires/\")\n",
    "driver.maximize_window()\n",
    "time.sleep(7)"
   ]
  },
  {
   "cell_type": "code",
   "execution_count": 72,
   "id": "355af0cd",
   "metadata": {},
   "outputs": [],
   "source": [
    "Blist={'Rank':[], 'Name':[], 'Net_worth':[], 'Age':[], 'Citizenship':[], 'Source':[], 'Industry':[]}\n",
    "#first row   ( //div[@class=\"TableRow_row__L-0Km TableRow_activeRow__g4oSF\"])\n",
    "\n",
    "data=driver.find_elements(By.XPATH,'//div[@class=\"TableRow_row__L-0Km TableRow_activeRow__g4oSF\"]/div')\n",
    "Blist['Rank'].append(data[0].text)\n",
    "Blist['Name'].append(data[1].text)\n",
    "Blist['Net_worth'].append(data[2].text)\n",
    "Blist['Age'].append(data[3].text)\n",
    "Blist['Citizenship'].append(data[4].text)\n",
    "Blist['Source'].append(data[5].text)\n",
    "Blist['Industry'].append(data[6].text)\n",
    "# this is typical code as the code for first row will be different and different for rest of lines.\n",
    "# also all the datas in single row are in same class "
   ]
  },
  {
   "cell_type": "code",
   "execution_count": 73,
   "id": "9863be76",
   "metadata": {},
   "outputs": [
    {
     "data": {
      "text/html": [
       "<div>\n",
       "<style scoped>\n",
       "    .dataframe tbody tr th:only-of-type {\n",
       "        vertical-align: middle;\n",
       "    }\n",
       "\n",
       "    .dataframe tbody tr th {\n",
       "        vertical-align: top;\n",
       "    }\n",
       "\n",
       "    .dataframe thead th {\n",
       "        text-align: right;\n",
       "    }\n",
       "</style>\n",
       "<table border=\"1\" class=\"dataframe\">\n",
       "  <thead>\n",
       "    <tr style=\"text-align: right;\">\n",
       "      <th></th>\n",
       "      <th>Rank</th>\n",
       "      <th>Name</th>\n",
       "      <th>Net_worth</th>\n",
       "      <th>Age</th>\n",
       "      <th>Citizenship</th>\n",
       "      <th>Source</th>\n",
       "      <th>Industry</th>\n",
       "    </tr>\n",
       "  </thead>\n",
       "  <tbody>\n",
       "    <tr>\n",
       "      <th>0</th>\n",
       "      <td>1</td>\n",
       "      <td>Bernard Arnault &amp; family</td>\n",
       "      <td>$211 B</td>\n",
       "      <td>74</td>\n",
       "      <td>France</td>\n",
       "      <td>LVMH</td>\n",
       "      <td>Fashion &amp; Retail</td>\n",
       "    </tr>\n",
       "    <tr>\n",
       "      <th>1</th>\n",
       "      <td>2</td>\n",
       "      <td>Elon Musk</td>\n",
       "      <td>$180 B</td>\n",
       "      <td>51</td>\n",
       "      <td>United States</td>\n",
       "      <td>Tesla, SpaceX</td>\n",
       "      <td>Automotive</td>\n",
       "    </tr>\n",
       "    <tr>\n",
       "      <th>2</th>\n",
       "      <td>3</td>\n",
       "      <td>Jeff Bezos</td>\n",
       "      <td>$114 B</td>\n",
       "      <td>59</td>\n",
       "      <td>United States</td>\n",
       "      <td>Amazon</td>\n",
       "      <td>Technology</td>\n",
       "    </tr>\n",
       "    <tr>\n",
       "      <th>3</th>\n",
       "      <td>4</td>\n",
       "      <td>Larry Ellison</td>\n",
       "      <td>$107 B</td>\n",
       "      <td>78</td>\n",
       "      <td>United States</td>\n",
       "      <td>Oracle</td>\n",
       "      <td>Technology</td>\n",
       "    </tr>\n",
       "    <tr>\n",
       "      <th>4</th>\n",
       "      <td>5</td>\n",
       "      <td>Warren Buffett</td>\n",
       "      <td>$106 B</td>\n",
       "      <td>92</td>\n",
       "      <td>United States</td>\n",
       "      <td>Berkshire Hathaway</td>\n",
       "      <td>Finance &amp; Investments</td>\n",
       "    </tr>\n",
       "    <tr>\n",
       "      <th>...</th>\n",
       "      <td>...</td>\n",
       "      <td>...</td>\n",
       "      <td>...</td>\n",
       "      <td>...</td>\n",
       "      <td>...</td>\n",
       "      <td>...</td>\n",
       "      <td>...</td>\n",
       "    </tr>\n",
       "    <tr>\n",
       "      <th>194</th>\n",
       "      <td>195</td>\n",
       "      <td>Rick Cohen &amp; family</td>\n",
       "      <td>$9.6 B</td>\n",
       "      <td>70</td>\n",
       "      <td>United States</td>\n",
       "      <td>Warehouse automation</td>\n",
       "      <td>Technology</td>\n",
       "    </tr>\n",
       "    <tr>\n",
       "      <th>195</th>\n",
       "      <td>195</td>\n",
       "      <td>Jin Baofang</td>\n",
       "      <td>$9.6 B</td>\n",
       "      <td>70</td>\n",
       "      <td>China</td>\n",
       "      <td>Solar panels</td>\n",
       "      <td>Energy</td>\n",
       "    </tr>\n",
       "    <tr>\n",
       "      <th>196</th>\n",
       "      <td>195</td>\n",
       "      <td>Luo Liguo &amp; family</td>\n",
       "      <td>$9.6 B</td>\n",
       "      <td>67</td>\n",
       "      <td>China</td>\n",
       "      <td>Chemicals</td>\n",
       "      <td>Manufacturing</td>\n",
       "    </tr>\n",
       "    <tr>\n",
       "      <th>197</th>\n",
       "      <td>195</td>\n",
       "      <td>Marijke Mars</td>\n",
       "      <td>$9.6 B</td>\n",
       "      <td>58</td>\n",
       "      <td>United States</td>\n",
       "      <td>Candy, pet food</td>\n",
       "      <td>Food &amp; Beverage</td>\n",
       "    </tr>\n",
       "    <tr>\n",
       "      <th>198</th>\n",
       "      <td>195</td>\n",
       "      <td>Pamela Mars</td>\n",
       "      <td>$9.6 B</td>\n",
       "      <td>62</td>\n",
       "      <td>United States</td>\n",
       "      <td>Candy, pet food</td>\n",
       "      <td>Food &amp; Beverage</td>\n",
       "    </tr>\n",
       "  </tbody>\n",
       "</table>\n",
       "<p>199 rows × 7 columns</p>\n",
       "</div>"
      ],
      "text/plain": [
       "    Rank                      Name Net_worth Age    Citizenship  \\\n",
       "0      1  Bernard Arnault & family    $211 B  74         France   \n",
       "1      2                 Elon Musk    $180 B  51  United States   \n",
       "2      3                Jeff Bezos    $114 B  59  United States   \n",
       "3      4             Larry Ellison    $107 B  78  United States   \n",
       "4      5            Warren Buffett    $106 B  92  United States   \n",
       "..   ...                       ...       ...  ..            ...   \n",
       "194  195       Rick Cohen & family    $9.6 B  70  United States   \n",
       "195  195               Jin Baofang    $9.6 B  70          China   \n",
       "196  195        Luo Liguo & family    $9.6 B  67          China   \n",
       "197  195              Marijke Mars    $9.6 B  58  United States   \n",
       "198  195               Pamela Mars    $9.6 B  62  United States   \n",
       "\n",
       "                   Source               Industry  \n",
       "0                    LVMH       Fashion & Retail  \n",
       "1           Tesla, SpaceX             Automotive  \n",
       "2                  Amazon             Technology  \n",
       "3                  Oracle             Technology  \n",
       "4      Berkshire Hathaway  Finance & Investments  \n",
       "..                    ...                    ...  \n",
       "194  Warehouse automation             Technology  \n",
       "195          Solar panels                 Energy  \n",
       "196             Chemicals          Manufacturing  \n",
       "197       Candy, pet food        Food & Beverage  \n",
       "198       Candy, pet food        Food & Beverage  \n",
       "\n",
       "[199 rows x 7 columns]"
      ]
     },
     "execution_count": 73,
     "metadata": {},
     "output_type": "execute_result"
    }
   ],
   "source": [
    "rows=driver.find_elements(By.XPATH,'//div[@class=\"TableRow_rowContainer__IC1Tv\"]/div')\n",
    "for i in range(0,len(rows)-1):\n",
    "    row=[]\n",
    "    data=rows[i].text.split('\\n')\n",
    "    \n",
    "    if len(data)==7:\n",
    "        Blist['Rank'].append(data[0])\n",
    "        Blist['Name'].append(data[1])\n",
    "        Blist['Net_worth'].append(data[2])\n",
    "        Blist['Age'].append(data[3])\n",
    "        Blist['Citizenship'].append(data[4])\n",
    "        Blist['Source'].append(data[5])\n",
    "        Blist['Industry'].append(data[6])\n",
    "\n",
    "# making Dataframe    \n",
    "df=pd.DataFrame(Blist) \n",
    "df"
   ]
  },
  {
   "cell_type": "markdown",
   "id": "04342bbe",
   "metadata": {},
   "source": [
    "8.Write a program to extract at least 500 Comments, Comment upvote and time when comment was posted \n",
    "from any YouTube Video."
   ]
  },
  {
   "cell_type": "code",
   "execution_count": 18,
   "id": "e45c28c5",
   "metadata": {},
   "outputs": [],
   "source": [
    "driver = webdriver.Chrome()"
   ]
  },
  {
   "cell_type": "code",
   "execution_count": 19,
   "id": "3abc6d33",
   "metadata": {},
   "outputs": [],
   "source": [
    "# Opening Youtube website\n",
    "driver.get(\"https://www.youtube.com\")\n",
    "driver.maximize_window()"
   ]
  },
  {
   "cell_type": "code",
   "execution_count": 20,
   "id": "690c37c5",
   "metadata": {},
   "outputs": [],
   "source": [
    "search_input=driver.find_element(By.NAME,\"search_query\")\n",
    "search_input.send_keys('Vaaste ') "
   ]
  },
  {
   "cell_type": "code",
   "execution_count": 21,
   "id": "1193c4ad",
   "metadata": {},
   "outputs": [],
   "source": [
    "search_btn=driver.find_element(By.XPATH,'//button[@id=\"search-icon-legacy\"]')\n",
    "search_btn.click()\n",
    "time.sleep(2)"
   ]
  },
  {
   "cell_type": "code",
   "execution_count": 22,
   "id": "93d05380",
   "metadata": {},
   "outputs": [],
   "source": [
    "# scraping the video link\n",
    "try:\n",
    "    video_link =driver.find_element(By.XPATH,'/html/body/ytd-app/div[1]/ytd-page-manager/ytd-search/div[1]/ytd-two-column-search-results-renderer/div/ytd-section-list-renderer/div[2]/ytd-item-section-renderer/div[3]/ytd-video-renderer[2]/div[1]/div/div[1]/div/h3/a').get_attribute('href')\n",
    "    driver.get(video_link)\n",
    "except:\n",
    "    pass"
   ]
  },
  {
   "cell_type": "code",
   "execution_count": 25,
   "id": "f6597f04",
   "metadata": {},
   "outputs": [],
   "source": [
    "# 5000 times we scroll down by 500  to load more comments\n",
    "for _ in range(5000):\n",
    "    driver.execute_script(\"window.scrollBy(0,500)\")\n",
    "    driver.set_script_timeout(300)"
   ]
  },
  {
   "cell_type": "code",
   "execution_count": 26,
   "id": "fbdad82d",
   "metadata": {},
   "outputs": [],
   "source": [
    "Comments={'comment':[], 'Comment_upvote':[], 'Time':[]}\n",
    "#scraping comment\n",
    "try:\n",
    "    comments=driver.find_elements(By.ID,\"comment-content\")\n",
    "    for i in comments[:500]:\n",
    "        Comments['comment'].append(i.text)\n",
    "except :\n",
    "    pass\n",
    "\n",
    "#scraping Comment_upvote\n",
    "try:\n",
    "    upvotes=driver.find_elements(By.ID,\"toolbar\")\n",
    "    \n",
    "    for i in upvotes[:500]:\n",
    "        upvote=i.find_element(By.ID,\"vote-count-middle\").text\n",
    "       \n",
    "        \n",
    "        if upvote==\" \":\n",
    "            Comments['Comment_upvote'].append('-')\n",
    "        else:\n",
    "            Comments['Comment_upvote'].append(upvote)\n",
    "except :\n",
    "    pass\n",
    "\n",
    "#scraping time\n",
    "try:\n",
    "    times=driver.find_elements(By.ID,\"header-author\")\n",
    "    \n",
    "    for i in times[:500]:\n",
    "        time=i.text.split('\\n')[1]\n",
    "        \n",
    "        \n",
    "        if time==\" \":\n",
    "            Comments['Time'].append('-')\n",
    "        else:\n",
    "            Comments['Time'].append(time)\n",
    "except :\n",
    "    pass"
   ]
  },
  {
   "cell_type": "code",
   "execution_count": 27,
   "id": "3effcd9a",
   "metadata": {},
   "outputs": [
    {
     "name": "stdout",
     "output_type": "stream",
     "text": [
      "500 500 500\n"
     ]
    }
   ],
   "source": [
    "print(len(Comments['Time']),len(Comments['Comment_upvote']),len(Comments['comment']))"
   ]
  },
  {
   "cell_type": "code",
   "execution_count": 28,
   "id": "75434449",
   "metadata": {},
   "outputs": [
    {
     "data": {
      "text/html": [
       "<div>\n",
       "<style scoped>\n",
       "    .dataframe tbody tr th:only-of-type {\n",
       "        vertical-align: middle;\n",
       "    }\n",
       "\n",
       "    .dataframe tbody tr th {\n",
       "        vertical-align: top;\n",
       "    }\n",
       "\n",
       "    .dataframe thead th {\n",
       "        text-align: right;\n",
       "    }\n",
       "</style>\n",
       "<table border=\"1\" class=\"dataframe\">\n",
       "  <thead>\n",
       "    <tr style=\"text-align: right;\">\n",
       "      <th></th>\n",
       "      <th>comment</th>\n",
       "      <th>Comment_upvote</th>\n",
       "      <th>Time</th>\n",
       "    </tr>\n",
       "  </thead>\n",
       "  <tbody>\n",
       "    <tr>\n",
       "      <th>0</th>\n",
       "      <td>“Haanji” is the perfect song to get you in the...</td>\n",
       "      <td>27</td>\n",
       "      <td>2 days ago</td>\n",
       "    </tr>\n",
       "    <tr>\n",
       "      <th>1</th>\n",
       "      <td>This song has a special place in my heart!.</td>\n",
       "      <td>14K</td>\n",
       "      <td>3 months ago</td>\n",
       "    </tr>\n",
       "    <tr>\n",
       "      <th>2</th>\n",
       "      <td>Memories + vibe + slow  rain + dark room + wai...</td>\n",
       "      <td>5</td>\n",
       "      <td>10 hours ago</td>\n",
       "    </tr>\n",
       "    <tr>\n",
       "      <th>3</th>\n",
       "      <td>Vicky Kaushal and Sara Ali Khan rocking perfor...</td>\n",
       "      <td>7</td>\n",
       "      <td>1 day ago</td>\n",
       "    </tr>\n",
       "    <tr>\n",
       "      <th>4</th>\n",
       "      <td>Such a bright song it is</td>\n",
       "      <td></td>\n",
       "      <td>12 minutes ago</td>\n",
       "    </tr>\n",
       "    <tr>\n",
       "      <th>...</th>\n",
       "      <td>...</td>\n",
       "      <td>...</td>\n",
       "      <td>...</td>\n",
       "    </tr>\n",
       "    <tr>\n",
       "      <th>495</th>\n",
       "      <td>Fav song for reels</td>\n",
       "      <td></td>\n",
       "      <td>4 weeks ago</td>\n",
       "    </tr>\n",
       "    <tr>\n",
       "      <th>496</th>\n",
       "      <td>This song teaches to tell the moon you are not...</td>\n",
       "      <td>1</td>\n",
       "      <td>8 days ago</td>\n",
       "    </tr>\n",
       "    <tr>\n",
       "      <th>497</th>\n",
       "      <td></td>\n",
       "      <td></td>\n",
       "      <td>3 weeks ago</td>\n",
       "    </tr>\n",
       "    <tr>\n",
       "      <th>498</th>\n",
       "      <td>The vibe is everything</td>\n",
       "      <td>42</td>\n",
       "      <td>3 months ago</td>\n",
       "    </tr>\n",
       "    <tr>\n",
       "      <th>499</th>\n",
       "      <td>Shadab faridi voice</td>\n",
       "      <td>7</td>\n",
       "      <td>1 month ago</td>\n",
       "    </tr>\n",
       "  </tbody>\n",
       "</table>\n",
       "<p>500 rows × 3 columns</p>\n",
       "</div>"
      ],
      "text/plain": [
       "                                               comment Comment_upvote  \\\n",
       "0    “Haanji” is the perfect song to get you in the...             27   \n",
       "1          This song has a special place in my heart!.            14K   \n",
       "2    Memories + vibe + slow  rain + dark room + wai...              5   \n",
       "3    Vicky Kaushal and Sara Ali Khan rocking perfor...              7   \n",
       "4                            Such a bright song it is                   \n",
       "..                                                 ...            ...   \n",
       "495                                 Fav song for reels                  \n",
       "496  This song teaches to tell the moon you are not...              1   \n",
       "497                                                                     \n",
       "498                            The vibe is everything              42   \n",
       "499                               Shadab faridi voice               7   \n",
       "\n",
       "               Time  \n",
       "0        2 days ago  \n",
       "1      3 months ago  \n",
       "2      10 hours ago  \n",
       "3         1 day ago  \n",
       "4    12 minutes ago  \n",
       "..              ...  \n",
       "495     4 weeks ago  \n",
       "496      8 days ago  \n",
       "497     3 weeks ago  \n",
       "498    3 months ago  \n",
       "499     1 month ago  \n",
       "\n",
       "[500 rows x 3 columns]"
      ]
     },
     "execution_count": 28,
     "metadata": {},
     "output_type": "execute_result"
    }
   ],
   "source": [
    "#making dataframe\n",
    "df=pd.DataFrame(Comments)\n",
    "df"
   ]
  },
  {
   "cell_type": "code",
   "execution_count": 29,
   "id": "e1cb83c5",
   "metadata": {},
   "outputs": [],
   "source": [
    "#close window\n",
    "driver.close()"
   ]
  },
  {
   "cell_type": "markdown",
   "id": "d89f2cde",
   "metadata": {},
   "source": [
    "Q9.Write a python program to scrape a data for all available Hostels from https://www.hostelworld.com/ \n",
    "in  “London” location. \n",
    "\n",
    "You have to scrape \n",
    "hostel name, distance from city centre, ratings, total reviews, overall reviews, privates from price, dorms from price, facilities and property description."
   ]
  },
  {
   "cell_type": "code",
   "execution_count": 36,
   "id": "7e7076ae",
   "metadata": {},
   "outputs": [],
   "source": [
    "driver = webdriver.Chrome()\n",
    "wait = WebDriverWait(driver,10)"
   ]
  },
  {
   "cell_type": "code",
   "execution_count": 37,
   "id": "fcf8d08a",
   "metadata": {},
   "outputs": [],
   "source": [
    "# Opening hostelworld website\n",
    "driver.get(\"https://www.hostelworld.com\")\n",
    "driver.maximize_window()\n"
   ]
  },
  {
   "cell_type": "code",
   "execution_count": 38,
   "id": "654aa328",
   "metadata": {},
   "outputs": [],
   "source": [
    "# give input as London\n",
    "search_input=driver.find_element(By.XPATH,'//input[@class=\"native-input body-1-reg\"]')\n",
    "search_input.send_keys('London ') \n",
    "time.sleep(2)"
   ]
  },
  {
   "cell_type": "code",
   "execution_count": 39,
   "id": "0f54c3ae",
   "metadata": {},
   "outputs": [],
   "source": [
    "#select 1st drop down item\n",
    "city=driver.find_element(By.XPATH,'/html/body/div[3]/div/div/div[2]/div[2]/div[2]/div/div/div/div[1]/div[2]/div/ul/li[2]/button/div[2]/div[1]')\n",
    "city.click()\n",
    "time.sleep(1)"
   ]
  },
  {
   "cell_type": "code",
   "execution_count": 40,
   "id": "d57939f9",
   "metadata": {},
   "outputs": [],
   "source": [
    "#click search button\n",
    "search_cl=driver.find_element(By.XPATH,'//button[@class=\"btn-content medium-button icon-only\"]')\n",
    "search_cl.click()\n"
   ]
  },
  {
   "cell_type": "code",
   "execution_count": 45,
   "id": "7f75d080",
   "metadata": {},
   "outputs": [],
   "source": [
    "hostel_urls=[]\n",
    "start = 0\n",
    "end = 1\n",
    "for page in range (start,end):\n",
    "    url=driver.find_elements(By.XPATH,'//a[@class=\"nuxt-link\"]')\n",
    "    for i in url:\n",
    "        hostel_urls.append(i.get_attribute(\"href\"))"
   ]
  },
  {
   "cell_type": "code",
   "execution_count": 46,
   "id": "18ea3545",
   "metadata": {},
   "outputs": [
    {
     "data": {
      "text/plain": [
       "32"
      ]
     },
     "execution_count": 46,
     "metadata": {},
     "output_type": "execute_result"
    }
   ],
   "source": [
    "len(hostel_urls)"
   ]
  },
  {
   "cell_type": "code",
   "execution_count": 49,
   "id": "449fc2f3",
   "metadata": {},
   "outputs": [],
   "source": [
    "name=[]\n",
    "rating=[]\n",
    "total_review=[]\n",
    "overall_review=[]\n",
    "price_private=[]\n",
    "price_dorm=[]\n",
    "fecilities=[]\n",
    "prop_describ=[]\n"
   ]
  },
  {
   "cell_type": "code",
   "execution_count": 52,
   "id": "e1b6a8f3",
   "metadata": {},
   "outputs": [
    {
     "ename": "WebDriverException",
     "evalue": "Message: disconnected: not connected to DevTools\n  (failed to check if window was closed: disconnected: not connected to DevTools)\n  (Session info: chrome=116.0.5845.188)\nStacktrace:\n\tGetHandleVerifier [0x00007FF742E352A2+57122]\n\t(No symbol) [0x00007FF742DAEA92]\n\t(No symbol) [0x00007FF742C7E3AB]\n\t(No symbol) [0x00007FF742C6BA47]\n\t(No symbol) [0x00007FF742C6B6C0]\n\t(No symbol) [0x00007FF742C7FA71]\n\t(No symbol) [0x00007FF742CEE27F]\n\t(No symbol) [0x00007FF742CD6DB3]\n\t(No symbol) [0x00007FF742CAD2B1]\n\t(No symbol) [0x00007FF742CAE494]\n\tGetHandleVerifier [0x00007FF7430DEF82+2849794]\n\tGetHandleVerifier [0x00007FF743131D24+3189156]\n\tGetHandleVerifier [0x00007FF74312ACAF+3160367]\n\tGetHandleVerifier [0x00007FF742EC6D06+653702]\n\t(No symbol) [0x00007FF742DBA208]\n\t(No symbol) [0x00007FF742DB62C4]\n\t(No symbol) [0x00007FF742DB63F6]\n\t(No symbol) [0x00007FF742DA67A3]\n\tBaseThreadInitThunk [0x00007FFC0A86257D+29]\n\tRtlUserThreadStart [0x00007FFC0B98AA68+40]\n",
     "output_type": "error",
     "traceback": [
      "\u001b[1;31m---------------------------------------------------------------------------\u001b[0m",
      "\u001b[1;31mWebDriverException\u001b[0m                        Traceback (most recent call last)",
      "Cell \u001b[1;32mIn[52], line 5\u001b[0m\n\u001b[0;32m      1\u001b[0m \u001b[38;5;66;03m# Now scraping data from each url\u001b[39;00m\n\u001b[0;32m      2\u001b[0m \u001b[38;5;66;03m# to scrap- hostel name , ratings,total reviews,Overall review,private room price,dorm price,fascilities ,prop descb \u001b[39;00m\n\u001b[0;32m      4\u001b[0m \u001b[38;5;28;01mfor\u001b[39;00m url \u001b[38;5;129;01min\u001b[39;00m hostel_urls:\n\u001b[1;32m----> 5\u001b[0m     \u001b[43mdriver\u001b[49m\u001b[38;5;241;43m.\u001b[39;49m\u001b[43mget\u001b[49m\u001b[43m(\u001b[49m\u001b[43murl\u001b[49m\u001b[43m)\u001b[49m\n\u001b[0;32m      9\u001b[0m     \u001b[38;5;28;01mtry\u001b[39;00m:\n\u001b[0;32m     10\u001b[0m         name_ele\u001b[38;5;241m=\u001b[39mdriver\u001b[38;5;241m.\u001b[39mfind_element(By\u001b[38;5;241m.\u001b[39mXPATH,\u001b[38;5;124m'\u001b[39m\u001b[38;5;124m//div[@class=\u001b[39m\u001b[38;5;124m\"\u001b[39m\u001b[38;5;124mtitle-2\u001b[39m\u001b[38;5;124m\"\u001b[39m\u001b[38;5;124m]\u001b[39m\u001b[38;5;124m'\u001b[39m)\n",
      "File \u001b[1;32m~\\AppData\\Roaming\\Python\\Python310\\site-packages\\selenium\\webdriver\\remote\\webdriver.py:354\u001b[0m, in \u001b[0;36mWebDriver.get\u001b[1;34m(self, url)\u001b[0m\n\u001b[0;32m    352\u001b[0m \u001b[38;5;28;01mdef\u001b[39;00m \u001b[38;5;21mget\u001b[39m(\u001b[38;5;28mself\u001b[39m, url: \u001b[38;5;28mstr\u001b[39m) \u001b[38;5;241m-\u001b[39m\u001b[38;5;241m>\u001b[39m \u001b[38;5;28;01mNone\u001b[39;00m:\n\u001b[0;32m    353\u001b[0m     \u001b[38;5;124;03m\"\"\"Loads a web page in the current browser session.\"\"\"\u001b[39;00m\n\u001b[1;32m--> 354\u001b[0m     \u001b[38;5;28;43mself\u001b[39;49m\u001b[38;5;241;43m.\u001b[39;49m\u001b[43mexecute\u001b[49m\u001b[43m(\u001b[49m\u001b[43mCommand\u001b[49m\u001b[38;5;241;43m.\u001b[39;49m\u001b[43mGET\u001b[49m\u001b[43m,\u001b[49m\u001b[43m \u001b[49m\u001b[43m{\u001b[49m\u001b[38;5;124;43m\"\u001b[39;49m\u001b[38;5;124;43murl\u001b[39;49m\u001b[38;5;124;43m\"\u001b[39;49m\u001b[43m:\u001b[49m\u001b[43m \u001b[49m\u001b[43murl\u001b[49m\u001b[43m}\u001b[49m\u001b[43m)\u001b[49m\n",
      "File \u001b[1;32m~\\AppData\\Roaming\\Python\\Python310\\site-packages\\selenium\\webdriver\\remote\\webdriver.py:345\u001b[0m, in \u001b[0;36mWebDriver.execute\u001b[1;34m(self, driver_command, params)\u001b[0m\n\u001b[0;32m    343\u001b[0m response \u001b[38;5;241m=\u001b[39m \u001b[38;5;28mself\u001b[39m\u001b[38;5;241m.\u001b[39mcommand_executor\u001b[38;5;241m.\u001b[39mexecute(driver_command, params)\n\u001b[0;32m    344\u001b[0m \u001b[38;5;28;01mif\u001b[39;00m response:\n\u001b[1;32m--> 345\u001b[0m     \u001b[38;5;28;43mself\u001b[39;49m\u001b[38;5;241;43m.\u001b[39;49m\u001b[43merror_handler\u001b[49m\u001b[38;5;241;43m.\u001b[39;49m\u001b[43mcheck_response\u001b[49m\u001b[43m(\u001b[49m\u001b[43mresponse\u001b[49m\u001b[43m)\u001b[49m\n\u001b[0;32m    346\u001b[0m     response[\u001b[38;5;124m\"\u001b[39m\u001b[38;5;124mvalue\u001b[39m\u001b[38;5;124m\"\u001b[39m] \u001b[38;5;241m=\u001b[39m \u001b[38;5;28mself\u001b[39m\u001b[38;5;241m.\u001b[39m_unwrap_value(response\u001b[38;5;241m.\u001b[39mget(\u001b[38;5;124m\"\u001b[39m\u001b[38;5;124mvalue\u001b[39m\u001b[38;5;124m\"\u001b[39m, \u001b[38;5;28;01mNone\u001b[39;00m))\n\u001b[0;32m    347\u001b[0m     \u001b[38;5;28;01mreturn\u001b[39;00m response\n",
      "File \u001b[1;32m~\\AppData\\Roaming\\Python\\Python310\\site-packages\\selenium\\webdriver\\remote\\errorhandler.py:229\u001b[0m, in \u001b[0;36mErrorHandler.check_response\u001b[1;34m(self, response)\u001b[0m\n\u001b[0;32m    227\u001b[0m         alert_text \u001b[38;5;241m=\u001b[39m value[\u001b[38;5;124m\"\u001b[39m\u001b[38;5;124malert\u001b[39m\u001b[38;5;124m\"\u001b[39m]\u001b[38;5;241m.\u001b[39mget(\u001b[38;5;124m\"\u001b[39m\u001b[38;5;124mtext\u001b[39m\u001b[38;5;124m\"\u001b[39m)\n\u001b[0;32m    228\u001b[0m     \u001b[38;5;28;01mraise\u001b[39;00m exception_class(message, screen, stacktrace, alert_text)  \u001b[38;5;66;03m# type: ignore[call-arg]  # mypy is not smart enough here\u001b[39;00m\n\u001b[1;32m--> 229\u001b[0m \u001b[38;5;28;01mraise\u001b[39;00m exception_class(message, screen, stacktrace)\n",
      "\u001b[1;31mWebDriverException\u001b[0m: Message: disconnected: not connected to DevTools\n  (failed to check if window was closed: disconnected: not connected to DevTools)\n  (Session info: chrome=116.0.5845.188)\nStacktrace:\n\tGetHandleVerifier [0x00007FF742E352A2+57122]\n\t(No symbol) [0x00007FF742DAEA92]\n\t(No symbol) [0x00007FF742C7E3AB]\n\t(No symbol) [0x00007FF742C6BA47]\n\t(No symbol) [0x00007FF742C6B6C0]\n\t(No symbol) [0x00007FF742C7FA71]\n\t(No symbol) [0x00007FF742CEE27F]\n\t(No symbol) [0x00007FF742CD6DB3]\n\t(No symbol) [0x00007FF742CAD2B1]\n\t(No symbol) [0x00007FF742CAE494]\n\tGetHandleVerifier [0x00007FF7430DEF82+2849794]\n\tGetHandleVerifier [0x00007FF743131D24+3189156]\n\tGetHandleVerifier [0x00007FF74312ACAF+3160367]\n\tGetHandleVerifier [0x00007FF742EC6D06+653702]\n\t(No symbol) [0x00007FF742DBA208]\n\t(No symbol) [0x00007FF742DB62C4]\n\t(No symbol) [0x00007FF742DB63F6]\n\t(No symbol) [0x00007FF742DA67A3]\n\tBaseThreadInitThunk [0x00007FFC0A86257D+29]\n\tRtlUserThreadStart [0x00007FFC0B98AA68+40]\n"
     ]
    }
   ],
   "source": [
    "# Now scraping data from each url\n",
    "# to scrap- hostel name , ratings,total reviews,Overall review,private room price,dorm price,fascilities ,prop descb \n",
    "\n",
    "for url in hostel_urls:\n",
    "    driver.get(url)\n",
    "    \n",
    "    try:\n",
    "        name_ele=driver.find_element(By.XPATH,'//div[@class=\"title-2\"]')\n",
    "        name.append(name_ele.text)\n",
    "    except:\n",
    "        name.append('_')\n",
    "        \n",
    "        \n",
    "    try:\n",
    "        rating_ele=driver.find_element(By.XPATH,'//div[@class=\"score orange big\"]')\n",
    "        rating.append(rating_ele.text)\n",
    "    except:\n",
    "        rating.append('_')\n",
    "        \n",
    "    try:\n",
    "        total_review_ele=driver.find_element(By.XPATH,'//div[@class=\"reviews\"]')\n",
    "        total_review.append(total_review_ele.text)\n",
    "    except:\n",
    "        total_reviw.append('_')\n",
    "        \n",
    "        \n",
    "    try:\n",
    "        overall_review_ele=driver.find_element(By.XPATH,'//div[@class=\"keyword\"]')\n",
    "        overall_review.append(overall_review_ele.text)\n",
    "    except:\n",
    "        overall_review.append('_')\n",
    "\n",
    "    try:\n",
    "        price_private_ele=driver.find_element(By.XPATH,'//div[@id=\"rate-151292-price\"]')\n",
    "        price_private.append(price_private_ele.text)\n",
    "    except:\n",
    "        price_private.append('_')\n",
    "\n",
    "    try:\n",
    "        price_dorm_ele=driver.find_element(By.XPATH,'//div[@id=\"rate-151290-price\"]')\n",
    "        price_dorm.append(price_dorm_ele.text)\n",
    "    except:\n",
    "        price_dorm.append('_')\n",
    "        \n",
    "    try:\n",
    "        fecilities_ele=driver.find_element(By.XPATH,'//ul[@class=\"facility-sections\"]')\n",
    "        fecilities.append(fecilities_ele.text)\n",
    "    except:\n",
    "        fecilities.append('_')\n",
    "\n",
    "    try:\n",
    "        prop_describ_ele=driver.find_element(By.XPATH,'//div[@class=\"collapsible\"]')\n",
    "        prop_describ.append(prop_describ_ele.text)\n",
    "    except:\n",
    "        prop_describ.append('_')\n",
    " \n",
    "        "
   ]
  },
  {
   "cell_type": "code",
   "execution_count": null,
   "id": "c7d174aa",
   "metadata": {},
   "outputs": [],
   "source": [
    "print(len(name),len(rating),len(total_review(),len(overall_review),len(price_private),len(price_dorm),len(fescilities),len(prod_describ))"
   ]
  },
  {
   "cell_type": "code",
   "execution_count": null,
   "id": "9e259f7b",
   "metadata": {},
   "outputs": [],
   "source": [
    "# now making DF\n",
    "import pandas as pd\n",
    "df=pd.DataFrame({'Hostel Name':name,'Ratings':rating,'Total Review':total_review,'Over All review': overall_review,'Private Room Price':price_private,'Dormatory Price':price_dorm,'Fescilities':fescilities,'Describtion':product_describ})\n",
    "df"
   ]
  },
  {
   "cell_type": "code",
   "execution_count": null,
   "id": "0e0e6109",
   "metadata": {},
   "outputs": [],
   "source": [
    "## donknow why i am getting error in above code , same code we wrote same code for flipkart as well, but didnt gave any error ."
   ]
  },
  {
   "cell_type": "code",
   "execution_count": null,
   "id": "1116c631",
   "metadata": {},
   "outputs": [],
   "source": [
    "# pls help in the same."
   ]
  },
  {
   "cell_type": "code",
   "execution_count": null,
   "id": "249621fb",
   "metadata": {},
   "outputs": [],
   "source": []
  },
  {
   "cell_type": "code",
   "execution_count": null,
   "id": "b454eddb",
   "metadata": {},
   "outputs": [],
   "source": []
  },
  {
   "cell_type": "code",
   "execution_count": null,
   "id": "c524cb2d",
   "metadata": {},
   "outputs": [],
   "source": []
  },
  {
   "cell_type": "code",
   "execution_count": null,
   "id": "d37a26f0",
   "metadata": {},
   "outputs": [],
   "source": []
  }
 ],
 "metadata": {
  "kernelspec": {
   "display_name": "Python 3 (ipykernel)",
   "language": "python",
   "name": "python3"
  },
  "language_info": {
   "codemirror_mode": {
    "name": "ipython",
    "version": 3
   },
   "file_extension": ".py",
   "mimetype": "text/x-python",
   "name": "python",
   "nbconvert_exporter": "python",
   "pygments_lexer": "ipython3",
   "version": "3.10.9"
  }
 },
 "nbformat": 4,
 "nbformat_minor": 5
}
